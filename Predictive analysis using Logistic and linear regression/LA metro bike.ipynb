{
 "cells": [
  {
   "cell_type": "markdown",
   "metadata": {},
   "source": [
    "## Assingmnent 2:\n",
    "### Linear Model and Logistic model for LA metro bike share trip data"
   ]
  },
  {
   "cell_type": "markdown",
   "metadata": {},
   "source": [
    "### Content:\n",
    "1. Abstract\n",
    "2. Data and Acknowledgement\n",
    "3. Exploratory Data Analysis <br>\n",
    "  3.1 Data Cleaning <br>\n",
    "  3.2 Data Prepration <br>\n",
    "  3.3 Data Visualization <br>\n",
    "4. Part A - Linear model\n",
    "5. Part B - Logistic model\n",
    "6. Part C - Multi-colinearity and step-wise regression\n",
    "7. Part D - Interaction effects\n",
    "8. Part E - Regularization\n",
    "9. Conclusion\n",
    "10. Contributions statement\n",
    "11. Citations\n",
    "12. License"
   ]
  },
  {
   "cell_type": "markdown",
   "metadata": {},
   "source": [
    "### Abstract:\n",
    "The purpose of this notebook is to create predictive linear model using both linear and logistic regression. The dataset used is taken from the Kaggle dataset LA metro Bike Share trip data. The dataset contains various factors recoreded per trip like Trip ID,Duration,Start Time,End Time,Starting Station ID,Starting Station Latitude-Longitude,Ending Station ID,Ending Station Latitude-Longitude,Bike ID,Plan Duration,Trip Category,Passholder Type .The task is to predict the cost based on several parameters, generate different models by taking multiple and different columns into consideration and analyze the models. We have used Linear regression and Logistic regression and taken the diffrent factors like checking the multicolinearity, performing the K-fold cross validation, taking the interaction effects and predicting based on that model. We also used Rigid regularization to solve the ill-posed or overfitting the model.This models tell us the prediction of cost based on this factors. We got that mostly cost depends upon the Plan Duration,Trip Category,Passholder Type, Duration of the trip.\n"
   ]
  },
  {
   "cell_type": "markdown",
   "metadata": {},
   "source": [
    "### Data:\n",
    "This is a dataset hosted by the city of Los Angeles. The organization has an open data platform found here and they update their information according the amount of data that is brought in. Explores Los Angeles's Data using Kaggle \"https://www.kaggle.com/cityofLA/los-angeles-metro-bike-share-trip-data\" and all of the data sources available through the city of Los Angeles organization page. <br>\n",
    "##### Columns\n",
    "1. Trip ID\n",
    "2. Duration\n",
    "3. Start Time\n",
    "4. End Time\n",
    "5. Starting Station ID\n",
    "6. Starting Station Latitude\n",
    "7. Starting Station Longitude\n",
    "8. Ending Station ID\n",
    "9. Ending Station Latitude\n",
    "10. Ending Station Longitude\n",
    "11. Bike ID\n",
    "12. Plan Duration\n",
    "13. Trip Route Category\n",
    "14. Passholder Type\n",
    "15. Starting Lat-Long\n",
    "17. Ending Lat-Long"
   ]
  },
  {
   "cell_type": "markdown",
   "metadata": {},
   "source": [
    "### Acknowledgements\n",
    "This dataset is maintained using Socrata's API and Kaggle's API. Socrata has assisted countless organizations with hosting their open data and has been an integral part of the process of bringing more data to the public."
   ]
  },
  {
   "cell_type": "markdown",
   "metadata": {},
   "source": [
    "##### Importing the required libraries"
   ]
  },
  {
   "cell_type": "code",
   "execution_count": 1,
   "metadata": {},
   "outputs": [],
   "source": [
    "import numpy as np\n",
    "import pandas as pd \n",
    "import matplotlib\n",
    "import matplotlib.pyplot as plt\n",
    "%matplotlib inline\n",
    "import sklearn \n",
    "import seaborn as sns\n",
    "from sklearn.model_selection import train_test_split\n",
    "from sklearn.linear_model import LinearRegression\n",
    "from sklearn.linear_model import LogisticRegression\n",
    "from sklearn.metrics import confusion_matrix, accuracy_score\n",
    "from sklearn.metrics import mean_squared_error\n",
    "import statsmodels.api as sm\n",
    "import warnings\n",
    "warnings.filterwarnings('ignore')"
   ]
  },
  {
   "cell_type": "markdown",
   "metadata": {},
   "source": [
    "##### Reading the dataset"
   ]
  },
  {
   "cell_type": "code",
   "execution_count": 2,
   "metadata": {
    "scrolled": true
   },
   "outputs": [],
   "source": [
    "data= pd.read_csv(\"C:\\\\Users\\\\JAYESH\\\\Desktop\\\\DataScience\\\\Assingment2\\\\metro bike share trip data.csv\", decimal = ',')"
   ]
  },
  {
   "cell_type": "markdown",
   "metadata": {},
   "source": [
    "##### Display the first few and last few rows"
   ]
  },
  {
   "cell_type": "code",
   "execution_count": 3,
   "metadata": {},
   "outputs": [
    {
     "data": {
      "text/html": [
       "<div>\n",
       "<style scoped>\n",
       "    .dataframe tbody tr th:only-of-type {\n",
       "        vertical-align: middle;\n",
       "    }\n",
       "\n",
       "    .dataframe tbody tr th {\n",
       "        vertical-align: top;\n",
       "    }\n",
       "\n",
       "    .dataframe thead th {\n",
       "        text-align: right;\n",
       "    }\n",
       "</style>\n",
       "<table border=\"1\" class=\"dataframe\">\n",
       "  <thead>\n",
       "    <tr style=\"text-align: right;\">\n",
       "      <th></th>\n",
       "      <th>Trip ID</th>\n",
       "      <th>Duration</th>\n",
       "      <th>Start Time</th>\n",
       "      <th>End Time</th>\n",
       "      <th>Starting Station ID</th>\n",
       "      <th>Starting Station Latitude</th>\n",
       "      <th>Starting Station Longitude</th>\n",
       "      <th>Ending Station ID</th>\n",
       "      <th>Ending Station Latitude</th>\n",
       "      <th>Ending Station Longitude</th>\n",
       "      <th>Bike ID</th>\n",
       "      <th>Plan Duration</th>\n",
       "      <th>Trip Route Category</th>\n",
       "      <th>Passholder Type</th>\n",
       "      <th>Starting Lat-Long</th>\n",
       "      <th>Ending Lat-Long</th>\n",
       "    </tr>\n",
       "  </thead>\n",
       "  <tbody>\n",
       "    <tr>\n",
       "      <th>0</th>\n",
       "      <td>1912818</td>\n",
       "      <td>180</td>\n",
       "      <td>2016-07-07T04:17:00</td>\n",
       "      <td>2016-07-07T04:20:00</td>\n",
       "      <td>3014.0</td>\n",
       "      <td>34.0566101</td>\n",
       "      <td>-118.23721</td>\n",
       "      <td>3014.0</td>\n",
       "      <td>34.0566101</td>\n",
       "      <td>-118.23721</td>\n",
       "      <td>6281.0</td>\n",
       "      <td>30.0</td>\n",
       "      <td>Round Trip</td>\n",
       "      <td>Monthly Pass</td>\n",
       "      <td>{'longitude': '-118.23721', 'latitude': '34.05...</td>\n",
       "      <td>{'longitude': '-118.23721', 'latitude': '34.05...</td>\n",
       "    </tr>\n",
       "    <tr>\n",
       "      <th>1</th>\n",
       "      <td>1919661</td>\n",
       "      <td>1980</td>\n",
       "      <td>2016-07-07T06:00:00</td>\n",
       "      <td>2016-07-07T06:33:00</td>\n",
       "      <td>3014.0</td>\n",
       "      <td>34.0566101</td>\n",
       "      <td>-118.23721</td>\n",
       "      <td>3014.0</td>\n",
       "      <td>34.0566101</td>\n",
       "      <td>-118.23721</td>\n",
       "      <td>6281.0</td>\n",
       "      <td>30.0</td>\n",
       "      <td>Round Trip</td>\n",
       "      <td>Monthly Pass</td>\n",
       "      <td>{'longitude': '-118.23721', 'latitude': '34.05...</td>\n",
       "      <td>{'longitude': '-118.23721', 'latitude': '34.05...</td>\n",
       "    </tr>\n",
       "    <tr>\n",
       "      <th>2</th>\n",
       "      <td>1933383</td>\n",
       "      <td>300</td>\n",
       "      <td>2016-07-07T10:32:00</td>\n",
       "      <td>2016-07-07T10:37:00</td>\n",
       "      <td>3016.0</td>\n",
       "      <td>34.0528984</td>\n",
       "      <td>-118.24156</td>\n",
       "      <td>3016.0</td>\n",
       "      <td>34.0528984</td>\n",
       "      <td>-118.24156</td>\n",
       "      <td>5861.0</td>\n",
       "      <td>365.0</td>\n",
       "      <td>Round Trip</td>\n",
       "      <td>Flex Pass</td>\n",
       "      <td>{'longitude': '-118.24156', 'latitude': '34.05...</td>\n",
       "      <td>{'longitude': '-118.24156', 'latitude': '34.05...</td>\n",
       "    </tr>\n",
       "    <tr>\n",
       "      <th>3</th>\n",
       "      <td>1944197</td>\n",
       "      <td>10860</td>\n",
       "      <td>2016-07-07T10:37:00</td>\n",
       "      <td>2016-07-07T13:38:00</td>\n",
       "      <td>3016.0</td>\n",
       "      <td>34.0528984</td>\n",
       "      <td>-118.24156</td>\n",
       "      <td>3016.0</td>\n",
       "      <td>34.0528984</td>\n",
       "      <td>-118.24156</td>\n",
       "      <td>5861.0</td>\n",
       "      <td>365.0</td>\n",
       "      <td>Round Trip</td>\n",
       "      <td>Flex Pass</td>\n",
       "      <td>{'longitude': '-118.24156', 'latitude': '34.05...</td>\n",
       "      <td>{'longitude': '-118.24156', 'latitude': '34.05...</td>\n",
       "    </tr>\n",
       "    <tr>\n",
       "      <th>4</th>\n",
       "      <td>1940317</td>\n",
       "      <td>420</td>\n",
       "      <td>2016-07-07T12:51:00</td>\n",
       "      <td>2016-07-07T12:58:00</td>\n",
       "      <td>3032.0</td>\n",
       "      <td>34.0498886</td>\n",
       "      <td>-118.25588</td>\n",
       "      <td>3032.0</td>\n",
       "      <td>34.0498886</td>\n",
       "      <td>-118.25588</td>\n",
       "      <td>6674.0</td>\n",
       "      <td>0.0</td>\n",
       "      <td>Round Trip</td>\n",
       "      <td>Walk-up</td>\n",
       "      <td>{'longitude': '-118.25588', 'latitude': '34.04...</td>\n",
       "      <td>{'longitude': '-118.25588', 'latitude': '34.04...</td>\n",
       "    </tr>\n",
       "  </tbody>\n",
       "</table>\n",
       "</div>"
      ],
      "text/plain": [
       "   Trip ID  Duration           Start Time             End Time  \\\n",
       "0  1912818       180  2016-07-07T04:17:00  2016-07-07T04:20:00   \n",
       "1  1919661      1980  2016-07-07T06:00:00  2016-07-07T06:33:00   \n",
       "2  1933383       300  2016-07-07T10:32:00  2016-07-07T10:37:00   \n",
       "3  1944197     10860  2016-07-07T10:37:00  2016-07-07T13:38:00   \n",
       "4  1940317       420  2016-07-07T12:51:00  2016-07-07T12:58:00   \n",
       "\n",
       "   Starting Station ID Starting Station Latitude Starting Station Longitude  \\\n",
       "0               3014.0                34.0566101                 -118.23721   \n",
       "1               3014.0                34.0566101                 -118.23721   \n",
       "2               3016.0                34.0528984                 -118.24156   \n",
       "3               3016.0                34.0528984                 -118.24156   \n",
       "4               3032.0                34.0498886                 -118.25588   \n",
       "\n",
       "   Ending Station ID Ending Station Latitude Ending Station Longitude  \\\n",
       "0             3014.0              34.0566101               -118.23721   \n",
       "1             3014.0              34.0566101               -118.23721   \n",
       "2             3016.0              34.0528984               -118.24156   \n",
       "3             3016.0              34.0528984               -118.24156   \n",
       "4             3032.0              34.0498886               -118.25588   \n",
       "\n",
       "   Bike ID  Plan Duration Trip Route Category Passholder Type  \\\n",
       "0   6281.0           30.0          Round Trip    Monthly Pass   \n",
       "1   6281.0           30.0          Round Trip    Monthly Pass   \n",
       "2   5861.0          365.0          Round Trip       Flex Pass   \n",
       "3   5861.0          365.0          Round Trip       Flex Pass   \n",
       "4   6674.0            0.0          Round Trip         Walk-up   \n",
       "\n",
       "                                   Starting Lat-Long  \\\n",
       "0  {'longitude': '-118.23721', 'latitude': '34.05...   \n",
       "1  {'longitude': '-118.23721', 'latitude': '34.05...   \n",
       "2  {'longitude': '-118.24156', 'latitude': '34.05...   \n",
       "3  {'longitude': '-118.24156', 'latitude': '34.05...   \n",
       "4  {'longitude': '-118.25588', 'latitude': '34.04...   \n",
       "\n",
       "                                     Ending Lat-Long  \n",
       "0  {'longitude': '-118.23721', 'latitude': '34.05...  \n",
       "1  {'longitude': '-118.23721', 'latitude': '34.05...  \n",
       "2  {'longitude': '-118.24156', 'latitude': '34.05...  \n",
       "3  {'longitude': '-118.24156', 'latitude': '34.05...  \n",
       "4  {'longitude': '-118.25588', 'latitude': '34.04...  "
      ]
     },
     "execution_count": 3,
     "metadata": {},
     "output_type": "execute_result"
    }
   ],
   "source": [
    "data.head()"
   ]
  },
  {
   "cell_type": "code",
   "execution_count": 4,
   "metadata": {},
   "outputs": [
    {
     "data": {
      "text/html": [
       "<div>\n",
       "<style scoped>\n",
       "    .dataframe tbody tr th:only-of-type {\n",
       "        vertical-align: middle;\n",
       "    }\n",
       "\n",
       "    .dataframe tbody tr th {\n",
       "        vertical-align: top;\n",
       "    }\n",
       "\n",
       "    .dataframe thead th {\n",
       "        text-align: right;\n",
       "    }\n",
       "</style>\n",
       "<table border=\"1\" class=\"dataframe\">\n",
       "  <thead>\n",
       "    <tr style=\"text-align: right;\">\n",
       "      <th></th>\n",
       "      <th>Trip ID</th>\n",
       "      <th>Duration</th>\n",
       "      <th>Start Time</th>\n",
       "      <th>End Time</th>\n",
       "      <th>Starting Station ID</th>\n",
       "      <th>Starting Station Latitude</th>\n",
       "      <th>Starting Station Longitude</th>\n",
       "      <th>Ending Station ID</th>\n",
       "      <th>Ending Station Latitude</th>\n",
       "      <th>Ending Station Longitude</th>\n",
       "      <th>Bike ID</th>\n",
       "      <th>Plan Duration</th>\n",
       "      <th>Trip Route Category</th>\n",
       "      <th>Passholder Type</th>\n",
       "      <th>Starting Lat-Long</th>\n",
       "      <th>Ending Lat-Long</th>\n",
       "    </tr>\n",
       "  </thead>\n",
       "  <tbody>\n",
       "    <tr>\n",
       "      <th>132422</th>\n",
       "      <td>23660993</td>\n",
       "      <td>540</td>\n",
       "      <td>2017-03-31T23:43:00</td>\n",
       "      <td>2017-03-31T23:52:00</td>\n",
       "      <td>3055.0</td>\n",
       "      <td>34.044159</td>\n",
       "      <td>-118.251579</td>\n",
       "      <td>3035.0</td>\n",
       "      <td>34.048401</td>\n",
       "      <td>-118.260948</td>\n",
       "      <td>5978.0</td>\n",
       "      <td>0.0</td>\n",
       "      <td>One Way</td>\n",
       "      <td>Walk-up</td>\n",
       "      <td>NaN</td>\n",
       "      <td>{'longitude': '-118.260948', 'latitude': '34.0...</td>\n",
       "    </tr>\n",
       "    <tr>\n",
       "      <th>132423</th>\n",
       "      <td>23660992</td>\n",
       "      <td>480</td>\n",
       "      <td>2017-03-31T23:44:00</td>\n",
       "      <td>2017-03-31T23:52:00</td>\n",
       "      <td>3055.0</td>\n",
       "      <td>34.044159</td>\n",
       "      <td>-118.251579</td>\n",
       "      <td>3035.0</td>\n",
       "      <td>34.048401</td>\n",
       "      <td>-118.260948</td>\n",
       "      <td>6478.0</td>\n",
       "      <td>0.0</td>\n",
       "      <td>One Way</td>\n",
       "      <td>Walk-up</td>\n",
       "      <td>NaN</td>\n",
       "      <td>{'longitude': '-118.260948', 'latitude': '34.0...</td>\n",
       "    </tr>\n",
       "    <tr>\n",
       "      <th>132424</th>\n",
       "      <td>23660991</td>\n",
       "      <td>480</td>\n",
       "      <td>2017-03-31T23:44:00</td>\n",
       "      <td>2017-03-31T23:52:00</td>\n",
       "      <td>3082.0</td>\n",
       "      <td>34.04652</td>\n",
       "      <td>-118.237411</td>\n",
       "      <td>3054.0</td>\n",
       "      <td>34.039219</td>\n",
       "      <td>-118.236488</td>\n",
       "      <td>6183.0</td>\n",
       "      <td>0.0</td>\n",
       "      <td>One Way</td>\n",
       "      <td>Walk-up</td>\n",
       "      <td>NaN</td>\n",
       "      <td>{'longitude': '-118.236488', 'latitude': '34.0...</td>\n",
       "    </tr>\n",
       "    <tr>\n",
       "      <th>132425</th>\n",
       "      <td>23660990</td>\n",
       "      <td>420</td>\n",
       "      <td>2017-03-31T23:45:00</td>\n",
       "      <td>2017-03-31T23:52:00</td>\n",
       "      <td>3082.0</td>\n",
       "      <td>34.04652</td>\n",
       "      <td>-118.237411</td>\n",
       "      <td>3054.0</td>\n",
       "      <td>34.039219</td>\n",
       "      <td>-118.236488</td>\n",
       "      <td>5900.0</td>\n",
       "      <td>0.0</td>\n",
       "      <td>One Way</td>\n",
       "      <td>Walk-up</td>\n",
       "      <td>NaN</td>\n",
       "      <td>{'longitude': '-118.236488', 'latitude': '34.0...</td>\n",
       "    </tr>\n",
       "    <tr>\n",
       "      <th>132426</th>\n",
       "      <td>23664826</td>\n",
       "      <td>1260</td>\n",
       "      <td>2017-03-31T23:45:00</td>\n",
       "      <td>2017-04-01T00:06:00</td>\n",
       "      <td>3078.0</td>\n",
       "      <td>34.064281</td>\n",
       "      <td>-118.238937</td>\n",
       "      <td>3029.0</td>\n",
       "      <td>34.048851</td>\n",
       "      <td>-118.246422</td>\n",
       "      <td>6207.0</td>\n",
       "      <td>0.0</td>\n",
       "      <td>One Way</td>\n",
       "      <td>Walk-up</td>\n",
       "      <td>NaN</td>\n",
       "      <td>{'longitude': '-118.246422', 'latitude': '34.0...</td>\n",
       "    </tr>\n",
       "  </tbody>\n",
       "</table>\n",
       "</div>"
      ],
      "text/plain": [
       "         Trip ID  Duration           Start Time             End Time  \\\n",
       "132422  23660993       540  2017-03-31T23:43:00  2017-03-31T23:52:00   \n",
       "132423  23660992       480  2017-03-31T23:44:00  2017-03-31T23:52:00   \n",
       "132424  23660991       480  2017-03-31T23:44:00  2017-03-31T23:52:00   \n",
       "132425  23660990       420  2017-03-31T23:45:00  2017-03-31T23:52:00   \n",
       "132426  23664826      1260  2017-03-31T23:45:00  2017-04-01T00:06:00   \n",
       "\n",
       "        Starting Station ID Starting Station Latitude  \\\n",
       "132422               3055.0                 34.044159   \n",
       "132423               3055.0                 34.044159   \n",
       "132424               3082.0                  34.04652   \n",
       "132425               3082.0                  34.04652   \n",
       "132426               3078.0                 34.064281   \n",
       "\n",
       "       Starting Station Longitude  Ending Station ID Ending Station Latitude  \\\n",
       "132422                -118.251579             3035.0               34.048401   \n",
       "132423                -118.251579             3035.0               34.048401   \n",
       "132424                -118.237411             3054.0               34.039219   \n",
       "132425                -118.237411             3054.0               34.039219   \n",
       "132426                -118.238937             3029.0               34.048851   \n",
       "\n",
       "       Ending Station Longitude  Bike ID  Plan Duration Trip Route Category  \\\n",
       "132422              -118.260948   5978.0            0.0             One Way   \n",
       "132423              -118.260948   6478.0            0.0             One Way   \n",
       "132424              -118.236488   6183.0            0.0             One Way   \n",
       "132425              -118.236488   5900.0            0.0             One Way   \n",
       "132426              -118.246422   6207.0            0.0             One Way   \n",
       "\n",
       "       Passholder Type Starting Lat-Long  \\\n",
       "132422         Walk-up               NaN   \n",
       "132423         Walk-up               NaN   \n",
       "132424         Walk-up               NaN   \n",
       "132425         Walk-up               NaN   \n",
       "132426         Walk-up               NaN   \n",
       "\n",
       "                                          Ending Lat-Long  \n",
       "132422  {'longitude': '-118.260948', 'latitude': '34.0...  \n",
       "132423  {'longitude': '-118.260948', 'latitude': '34.0...  \n",
       "132424  {'longitude': '-118.236488', 'latitude': '34.0...  \n",
       "132425  {'longitude': '-118.236488', 'latitude': '34.0...  \n",
       "132426  {'longitude': '-118.246422', 'latitude': '34.0...  "
      ]
     },
     "execution_count": 4,
     "metadata": {},
     "output_type": "execute_result"
    }
   ],
   "source": [
    "data.tail()"
   ]
  },
  {
   "cell_type": "markdown",
   "metadata": {},
   "source": [
    "##### Getting the dataset info"
   ]
  },
  {
   "cell_type": "code",
   "execution_count": 5,
   "metadata": {},
   "outputs": [
    {
     "name": "stdout",
     "output_type": "stream",
     "text": [
      "<class 'pandas.core.frame.DataFrame'>\n",
      "RangeIndex: 132427 entries, 0 to 132426\n",
      "Data columns (total 16 columns):\n",
      "Trip ID                       132427 non-null int64\n",
      "Duration                      132427 non-null int64\n",
      "Start Time                    132427 non-null object\n",
      "End Time                      132427 non-null object\n",
      "Starting Station ID           132408 non-null float64\n",
      "Starting Station Latitude     132379 non-null object\n",
      "Starting Station Longitude    132379 non-null object\n",
      "Ending Station ID             132331 non-null float64\n",
      "Ending Station Latitude       131376 non-null object\n",
      "Ending Station Longitude      131376 non-null object\n",
      "Bike ID                       132417 non-null float64\n",
      "Plan Duration                 131661 non-null float64\n",
      "Trip Route Category           132427 non-null object\n",
      "Passholder Type               132427 non-null object\n",
      "Starting Lat-Long             98622 non-null object\n",
      "Ending Lat-Long               131376 non-null object\n",
      "dtypes: float64(4), int64(2), object(10)\n",
      "memory usage: 16.2+ MB\n"
     ]
    }
   ],
   "source": [
    "data.info()"
   ]
  },
  {
   "cell_type": "markdown",
   "metadata": {},
   "source": [
    "###### By just looking at first & last few rows \"Trip id\" provide no additional info and is just like index and Plan duration provide no extra info since passholder type already convey the plan duration and also the columns \"Starting Lat-Long\" \"Ending Lat-Long\" are redundant and also Start_Time and End_Time as they are not much of use for us now and will create a problem during regression as they are Timestamps."
   ]
  },
  {
   "cell_type": "markdown",
   "metadata": {},
   "source": [
    "### Data Cleaning\n",
    "It's a process of correcting the inaccurate data. We need to check and clean the data in order to remove any null values.\n",
    "The following isnull function will figure out if there are any missing values in the dataframe, and will then sum up the total for each column and also we need to drop the redundant columns."
   ]
  },
  {
   "cell_type": "code",
   "execution_count": 6,
   "metadata": {},
   "outputs": [],
   "source": [
    "#Droping the columns\n",
    "data=data.drop(['Starting Lat-Long','Ending Lat-Long','Start Time','End Time'],axis=1)"
   ]
  },
  {
   "cell_type": "code",
   "execution_count": 7,
   "metadata": {},
   "outputs": [
    {
     "data": {
      "text/plain": [
       "Trip ID                          0\n",
       "Duration                         0\n",
       "Starting Station ID             19\n",
       "Starting Station Latitude       48\n",
       "Starting Station Longitude      48\n",
       "Ending Station ID               96\n",
       "Ending Station Latitude       1051\n",
       "Ending Station Longitude      1051\n",
       "Bike ID                         10\n",
       "Plan Duration                  766\n",
       "Trip Route Category              0\n",
       "Passholder Type                  0\n",
       "dtype: int64"
      ]
     },
     "execution_count": 7,
     "metadata": {},
     "output_type": "execute_result"
    }
   ],
   "source": [
    "#Getting the sum of null values\n",
    "data.isnull().sum()"
   ]
  },
  {
   "cell_type": "code",
   "execution_count": 8,
   "metadata": {},
   "outputs": [],
   "source": [
    "#Removing the null values\n",
    "data=data.dropna()"
   ]
  },
  {
   "cell_type": "code",
   "execution_count": 9,
   "metadata": {},
   "outputs": [
    {
     "data": {
      "text/plain": [
       "0"
      ]
     },
     "execution_count": 9,
     "metadata": {},
     "output_type": "execute_result"
    }
   ],
   "source": [
    "data.isnull().sum().sum()"
   ]
  },
  {
   "cell_type": "markdown",
   "metadata": {},
   "source": [
    "###### So, we can see that by using the pandas function dropna we have drop the null values from the rows and now our dataset contains 0 null values."
   ]
  },
  {
   "cell_type": "markdown",
   "metadata": {},
   "source": [
    "Now, lets get the some insight of our data set by describe() function which will show the min,max,mean,standerd deviation,etc. of our dataset"
   ]
  },
  {
   "cell_type": "code",
   "execution_count": 10,
   "metadata": {
    "scrolled": false
   },
   "outputs": [
    {
     "data": {
      "text/html": [
       "<div>\n",
       "<style scoped>\n",
       "    .dataframe tbody tr th:only-of-type {\n",
       "        vertical-align: middle;\n",
       "    }\n",
       "\n",
       "    .dataframe tbody tr th {\n",
       "        vertical-align: top;\n",
       "    }\n",
       "\n",
       "    .dataframe thead th {\n",
       "        text-align: right;\n",
       "    }\n",
       "</style>\n",
       "<table border=\"1\" class=\"dataframe\">\n",
       "  <thead>\n",
       "    <tr style=\"text-align: right;\">\n",
       "      <th></th>\n",
       "      <th>Trip ID</th>\n",
       "      <th>Duration</th>\n",
       "      <th>Starting Station ID</th>\n",
       "      <th>Ending Station ID</th>\n",
       "      <th>Bike ID</th>\n",
       "      <th>Plan Duration</th>\n",
       "    </tr>\n",
       "  </thead>\n",
       "  <tbody>\n",
       "    <tr>\n",
       "      <th>count</th>\n",
       "      <td>1.307150e+05</td>\n",
       "      <td>130715.000000</td>\n",
       "      <td>130715.000000</td>\n",
       "      <td>130715.000000</td>\n",
       "      <td>130715.000000</td>\n",
       "      <td>130715.000000</td>\n",
       "    </tr>\n",
       "    <tr>\n",
       "      <th>mean</th>\n",
       "      <td>1.145928e+07</td>\n",
       "      <td>1355.489577</td>\n",
       "      <td>3042.560341</td>\n",
       "      <td>3041.990912</td>\n",
       "      <td>6193.697900</td>\n",
       "      <td>44.886318</td>\n",
       "    </tr>\n",
       "    <tr>\n",
       "      <th>std</th>\n",
       "      <td>6.362769e+06</td>\n",
       "      <td>4674.172366</td>\n",
       "      <td>30.968528</td>\n",
       "      <td>33.546330</td>\n",
       "      <td>293.284747</td>\n",
       "      <td>90.433685</td>\n",
       "    </tr>\n",
       "    <tr>\n",
       "      <th>min</th>\n",
       "      <td>1.912818e+06</td>\n",
       "      <td>60.000000</td>\n",
       "      <td>3005.000000</td>\n",
       "      <td>3005.000000</td>\n",
       "      <td>4727.000000</td>\n",
       "      <td>0.000000</td>\n",
       "    </tr>\n",
       "    <tr>\n",
       "      <th>25%</th>\n",
       "      <td>5.060320e+06</td>\n",
       "      <td>360.000000</td>\n",
       "      <td>3024.000000</td>\n",
       "      <td>3023.000000</td>\n",
       "      <td>5953.000000</td>\n",
       "      <td>0.000000</td>\n",
       "    </tr>\n",
       "    <tr>\n",
       "      <th>50%</th>\n",
       "      <td>1.022443e+07</td>\n",
       "      <td>600.000000</td>\n",
       "      <td>3039.000000</td>\n",
       "      <td>3038.000000</td>\n",
       "      <td>6186.000000</td>\n",
       "      <td>30.000000</td>\n",
       "    </tr>\n",
       "    <tr>\n",
       "      <th>75%</th>\n",
       "      <td>1.709856e+07</td>\n",
       "      <td>1080.000000</td>\n",
       "      <td>3063.000000</td>\n",
       "      <td>3063.000000</td>\n",
       "      <td>6434.000000</td>\n",
       "      <td>30.000000</td>\n",
       "    </tr>\n",
       "    <tr>\n",
       "      <th>max</th>\n",
       "      <td>2.373246e+07</td>\n",
       "      <td>86400.000000</td>\n",
       "      <td>4108.000000</td>\n",
       "      <td>4108.000000</td>\n",
       "      <td>6728.000000</td>\n",
       "      <td>365.000000</td>\n",
       "    </tr>\n",
       "  </tbody>\n",
       "</table>\n",
       "</div>"
      ],
      "text/plain": [
       "            Trip ID       Duration  Starting Station ID  Ending Station ID  \\\n",
       "count  1.307150e+05  130715.000000        130715.000000      130715.000000   \n",
       "mean   1.145928e+07    1355.489577          3042.560341        3041.990912   \n",
       "std    6.362769e+06    4674.172366            30.968528          33.546330   \n",
       "min    1.912818e+06      60.000000          3005.000000        3005.000000   \n",
       "25%    5.060320e+06     360.000000          3024.000000        3023.000000   \n",
       "50%    1.022443e+07     600.000000          3039.000000        3038.000000   \n",
       "75%    1.709856e+07    1080.000000          3063.000000        3063.000000   \n",
       "max    2.373246e+07   86400.000000          4108.000000        4108.000000   \n",
       "\n",
       "             Bike ID  Plan Duration  \n",
       "count  130715.000000  130715.000000  \n",
       "mean     6193.697900      44.886318  \n",
       "std       293.284747      90.433685  \n",
       "min      4727.000000       0.000000  \n",
       "25%      5953.000000       0.000000  \n",
       "50%      6186.000000      30.000000  \n",
       "75%      6434.000000      30.000000  \n",
       "max      6728.000000     365.000000  "
      ]
     },
     "execution_count": 10,
     "metadata": {},
     "output_type": "execute_result"
    }
   ],
   "source": [
    "data.describe()"
   ]
  },
  {
   "cell_type": "markdown",
   "metadata": {},
   "source": [
    "##### Creating the dummy variables:\n",
    "We need to create the dummy variables to turn the categories into high(1) and low(0) value  for something the regression can understand. In statistics, particularly in regression analysis, a dummy variable (also known as an indicator variable, design variable, one-hot encoding, Boolean indicator, binary variable, or qualitative variable) is one that takes the value 0 or 1 to indicate the absence or presence of some categorical effect that may be expected to shift the outcome. In python we can create the dummy varibles using pandas\n",
    "So for out dataset we need to create the dummy varaible for columns like:\n",
    "1. Trip Route Category\n",
    "2. Passholder Type"
   ]
  },
  {
   "cell_type": "code",
   "execution_count": 11,
   "metadata": {},
   "outputs": [],
   "source": [
    "#creating the dummy varibales for Trip Round Category:\n",
    "data= pd.get_dummies(data,columns= ['Trip Route Category'],drop_first=True)"
   ]
  },
  {
   "cell_type": "code",
   "execution_count": 12,
   "metadata": {},
   "outputs": [],
   "source": [
    "#Dummies for Passholder Type:\n",
    "data= pd.get_dummies(data,columns= ['Passholder Type'],drop_first=True)"
   ]
  },
  {
   "cell_type": "code",
   "execution_count": 13,
   "metadata": {},
   "outputs": [
    {
     "data": {
      "text/html": [
       "<div>\n",
       "<style scoped>\n",
       "    .dataframe tbody tr th:only-of-type {\n",
       "        vertical-align: middle;\n",
       "    }\n",
       "\n",
       "    .dataframe tbody tr th {\n",
       "        vertical-align: top;\n",
       "    }\n",
       "\n",
       "    .dataframe thead th {\n",
       "        text-align: right;\n",
       "    }\n",
       "</style>\n",
       "<table border=\"1\" class=\"dataframe\">\n",
       "  <thead>\n",
       "    <tr style=\"text-align: right;\">\n",
       "      <th></th>\n",
       "      <th>Trip ID</th>\n",
       "      <th>Duration</th>\n",
       "      <th>Starting Station ID</th>\n",
       "      <th>Ending Station ID</th>\n",
       "      <th>Bike ID</th>\n",
       "      <th>Plan Duration</th>\n",
       "      <th>Trip Route Category_Round Trip</th>\n",
       "      <th>Passholder Type_Monthly Pass</th>\n",
       "      <th>Passholder Type_Walk-up</th>\n",
       "    </tr>\n",
       "  </thead>\n",
       "  <tbody>\n",
       "    <tr>\n",
       "      <th>count</th>\n",
       "      <td>1.307150e+05</td>\n",
       "      <td>130715.000000</td>\n",
       "      <td>130715.000000</td>\n",
       "      <td>130715.000000</td>\n",
       "      <td>130715.000000</td>\n",
       "      <td>130715.000000</td>\n",
       "      <td>130715.000000</td>\n",
       "      <td>130715.000000</td>\n",
       "      <td>130715.000000</td>\n",
       "    </tr>\n",
       "    <tr>\n",
       "      <th>mean</th>\n",
       "      <td>1.145928e+07</td>\n",
       "      <td>1355.489577</td>\n",
       "      <td>3042.560341</td>\n",
       "      <td>3041.990912</td>\n",
       "      <td>6193.697900</td>\n",
       "      <td>44.886318</td>\n",
       "      <td>0.096638</td>\n",
       "      <td>0.615974</td>\n",
       "      <td>0.311678</td>\n",
       "    </tr>\n",
       "    <tr>\n",
       "      <th>std</th>\n",
       "      <td>6.362769e+06</td>\n",
       "      <td>4674.172366</td>\n",
       "      <td>30.968528</td>\n",
       "      <td>33.546330</td>\n",
       "      <td>293.284747</td>\n",
       "      <td>90.433685</td>\n",
       "      <td>0.295465</td>\n",
       "      <td>0.486366</td>\n",
       "      <td>0.463181</td>\n",
       "    </tr>\n",
       "    <tr>\n",
       "      <th>min</th>\n",
       "      <td>1.912818e+06</td>\n",
       "      <td>60.000000</td>\n",
       "      <td>3005.000000</td>\n",
       "      <td>3005.000000</td>\n",
       "      <td>4727.000000</td>\n",
       "      <td>0.000000</td>\n",
       "      <td>0.000000</td>\n",
       "      <td>0.000000</td>\n",
       "      <td>0.000000</td>\n",
       "    </tr>\n",
       "    <tr>\n",
       "      <th>25%</th>\n",
       "      <td>5.060320e+06</td>\n",
       "      <td>360.000000</td>\n",
       "      <td>3024.000000</td>\n",
       "      <td>3023.000000</td>\n",
       "      <td>5953.000000</td>\n",
       "      <td>0.000000</td>\n",
       "      <td>0.000000</td>\n",
       "      <td>0.000000</td>\n",
       "      <td>0.000000</td>\n",
       "    </tr>\n",
       "    <tr>\n",
       "      <th>50%</th>\n",
       "      <td>1.022443e+07</td>\n",
       "      <td>600.000000</td>\n",
       "      <td>3039.000000</td>\n",
       "      <td>3038.000000</td>\n",
       "      <td>6186.000000</td>\n",
       "      <td>30.000000</td>\n",
       "      <td>0.000000</td>\n",
       "      <td>1.000000</td>\n",
       "      <td>0.000000</td>\n",
       "    </tr>\n",
       "    <tr>\n",
       "      <th>75%</th>\n",
       "      <td>1.709856e+07</td>\n",
       "      <td>1080.000000</td>\n",
       "      <td>3063.000000</td>\n",
       "      <td>3063.000000</td>\n",
       "      <td>6434.000000</td>\n",
       "      <td>30.000000</td>\n",
       "      <td>0.000000</td>\n",
       "      <td>1.000000</td>\n",
       "      <td>1.000000</td>\n",
       "    </tr>\n",
       "    <tr>\n",
       "      <th>max</th>\n",
       "      <td>2.373246e+07</td>\n",
       "      <td>86400.000000</td>\n",
       "      <td>4108.000000</td>\n",
       "      <td>4108.000000</td>\n",
       "      <td>6728.000000</td>\n",
       "      <td>365.000000</td>\n",
       "      <td>1.000000</td>\n",
       "      <td>1.000000</td>\n",
       "      <td>1.000000</td>\n",
       "    </tr>\n",
       "  </tbody>\n",
       "</table>\n",
       "</div>"
      ],
      "text/plain": [
       "            Trip ID       Duration  Starting Station ID  Ending Station ID  \\\n",
       "count  1.307150e+05  130715.000000        130715.000000      130715.000000   \n",
       "mean   1.145928e+07    1355.489577          3042.560341        3041.990912   \n",
       "std    6.362769e+06    4674.172366            30.968528          33.546330   \n",
       "min    1.912818e+06      60.000000          3005.000000        3005.000000   \n",
       "25%    5.060320e+06     360.000000          3024.000000        3023.000000   \n",
       "50%    1.022443e+07     600.000000          3039.000000        3038.000000   \n",
       "75%    1.709856e+07    1080.000000          3063.000000        3063.000000   \n",
       "max    2.373246e+07   86400.000000          4108.000000        4108.000000   \n",
       "\n",
       "             Bike ID  Plan Duration  Trip Route Category_Round Trip  \\\n",
       "count  130715.000000  130715.000000                   130715.000000   \n",
       "mean     6193.697900      44.886318                        0.096638   \n",
       "std       293.284747      90.433685                        0.295465   \n",
       "min      4727.000000       0.000000                        0.000000   \n",
       "25%      5953.000000       0.000000                        0.000000   \n",
       "50%      6186.000000      30.000000                        0.000000   \n",
       "75%      6434.000000      30.000000                        0.000000   \n",
       "max      6728.000000     365.000000                        1.000000   \n",
       "\n",
       "       Passholder Type_Monthly Pass  Passholder Type_Walk-up  \n",
       "count                 130715.000000            130715.000000  \n",
       "mean                       0.615974                 0.311678  \n",
       "std                        0.486366                 0.463181  \n",
       "min                        0.000000                 0.000000  \n",
       "25%                        0.000000                 0.000000  \n",
       "50%                        1.000000                 0.000000  \n",
       "75%                        1.000000                 1.000000  \n",
       "max                        1.000000                 1.000000  "
      ]
     },
     "execution_count": 13,
     "metadata": {},
     "output_type": "execute_result"
    }
   ],
   "source": [
    "data.describe()"
   ]
  },
  {
   "cell_type": "markdown",
   "metadata": {},
   "source": [
    "#####  Data Prepration:\n",
    "We'll predict the cost how it varies with the different independent variables. So, we ll calculate the cost based on duration of trip as Cost = Duration*0.5 "
   ]
  },
  {
   "cell_type": "code",
   "execution_count": 14,
   "metadata": {},
   "outputs": [],
   "source": [
    "data[\"Cost\"]=data[\"Duration\"]*0.5"
   ]
  },
  {
   "cell_type": "code",
   "execution_count": 15,
   "metadata": {},
   "outputs": [
    {
     "data": {
      "text/html": [
       "<div>\n",
       "<style scoped>\n",
       "    .dataframe tbody tr th:only-of-type {\n",
       "        vertical-align: middle;\n",
       "    }\n",
       "\n",
       "    .dataframe tbody tr th {\n",
       "        vertical-align: top;\n",
       "    }\n",
       "\n",
       "    .dataframe thead th {\n",
       "        text-align: right;\n",
       "    }\n",
       "</style>\n",
       "<table border=\"1\" class=\"dataframe\">\n",
       "  <thead>\n",
       "    <tr style=\"text-align: right;\">\n",
       "      <th></th>\n",
       "      <th>Trip ID</th>\n",
       "      <th>Duration</th>\n",
       "      <th>Starting Station ID</th>\n",
       "      <th>Starting Station Latitude</th>\n",
       "      <th>Starting Station Longitude</th>\n",
       "      <th>Ending Station ID</th>\n",
       "      <th>Ending Station Latitude</th>\n",
       "      <th>Ending Station Longitude</th>\n",
       "      <th>Bike ID</th>\n",
       "      <th>Plan Duration</th>\n",
       "      <th>Trip Route Category_Round Trip</th>\n",
       "      <th>Passholder Type_Monthly Pass</th>\n",
       "      <th>Passholder Type_Walk-up</th>\n",
       "      <th>Cost</th>\n",
       "    </tr>\n",
       "  </thead>\n",
       "  <tbody>\n",
       "    <tr>\n",
       "      <th>0</th>\n",
       "      <td>1912818</td>\n",
       "      <td>180</td>\n",
       "      <td>3014.0</td>\n",
       "      <td>34.0566101</td>\n",
       "      <td>-118.23721</td>\n",
       "      <td>3014.0</td>\n",
       "      <td>34.0566101</td>\n",
       "      <td>-118.23721</td>\n",
       "      <td>6281.0</td>\n",
       "      <td>30.0</td>\n",
       "      <td>1</td>\n",
       "      <td>1</td>\n",
       "      <td>0</td>\n",
       "      <td>90.0</td>\n",
       "    </tr>\n",
       "    <tr>\n",
       "      <th>1</th>\n",
       "      <td>1919661</td>\n",
       "      <td>1980</td>\n",
       "      <td>3014.0</td>\n",
       "      <td>34.0566101</td>\n",
       "      <td>-118.23721</td>\n",
       "      <td>3014.0</td>\n",
       "      <td>34.0566101</td>\n",
       "      <td>-118.23721</td>\n",
       "      <td>6281.0</td>\n",
       "      <td>30.0</td>\n",
       "      <td>1</td>\n",
       "      <td>1</td>\n",
       "      <td>0</td>\n",
       "      <td>990.0</td>\n",
       "    </tr>\n",
       "    <tr>\n",
       "      <th>2</th>\n",
       "      <td>1933383</td>\n",
       "      <td>300</td>\n",
       "      <td>3016.0</td>\n",
       "      <td>34.0528984</td>\n",
       "      <td>-118.24156</td>\n",
       "      <td>3016.0</td>\n",
       "      <td>34.0528984</td>\n",
       "      <td>-118.24156</td>\n",
       "      <td>5861.0</td>\n",
       "      <td>365.0</td>\n",
       "      <td>1</td>\n",
       "      <td>0</td>\n",
       "      <td>0</td>\n",
       "      <td>150.0</td>\n",
       "    </tr>\n",
       "    <tr>\n",
       "      <th>3</th>\n",
       "      <td>1944197</td>\n",
       "      <td>10860</td>\n",
       "      <td>3016.0</td>\n",
       "      <td>34.0528984</td>\n",
       "      <td>-118.24156</td>\n",
       "      <td>3016.0</td>\n",
       "      <td>34.0528984</td>\n",
       "      <td>-118.24156</td>\n",
       "      <td>5861.0</td>\n",
       "      <td>365.0</td>\n",
       "      <td>1</td>\n",
       "      <td>0</td>\n",
       "      <td>0</td>\n",
       "      <td>5430.0</td>\n",
       "    </tr>\n",
       "    <tr>\n",
       "      <th>4</th>\n",
       "      <td>1940317</td>\n",
       "      <td>420</td>\n",
       "      <td>3032.0</td>\n",
       "      <td>34.0498886</td>\n",
       "      <td>-118.25588</td>\n",
       "      <td>3032.0</td>\n",
       "      <td>34.0498886</td>\n",
       "      <td>-118.25588</td>\n",
       "      <td>6674.0</td>\n",
       "      <td>0.0</td>\n",
       "      <td>1</td>\n",
       "      <td>0</td>\n",
       "      <td>1</td>\n",
       "      <td>210.0</td>\n",
       "    </tr>\n",
       "  </tbody>\n",
       "</table>\n",
       "</div>"
      ],
      "text/plain": [
       "   Trip ID  Duration  Starting Station ID Starting Station Latitude  \\\n",
       "0  1912818       180               3014.0                34.0566101   \n",
       "1  1919661      1980               3014.0                34.0566101   \n",
       "2  1933383       300               3016.0                34.0528984   \n",
       "3  1944197     10860               3016.0                34.0528984   \n",
       "4  1940317       420               3032.0                34.0498886   \n",
       "\n",
       "  Starting Station Longitude  Ending Station ID Ending Station Latitude  \\\n",
       "0                 -118.23721             3014.0              34.0566101   \n",
       "1                 -118.23721             3014.0              34.0566101   \n",
       "2                 -118.24156             3016.0              34.0528984   \n",
       "3                 -118.24156             3016.0              34.0528984   \n",
       "4                 -118.25588             3032.0              34.0498886   \n",
       "\n",
       "  Ending Station Longitude  Bike ID  Plan Duration  \\\n",
       "0               -118.23721   6281.0           30.0   \n",
       "1               -118.23721   6281.0           30.0   \n",
       "2               -118.24156   5861.0          365.0   \n",
       "3               -118.24156   5861.0          365.0   \n",
       "4               -118.25588   6674.0            0.0   \n",
       "\n",
       "   Trip Route Category_Round Trip  Passholder Type_Monthly Pass  \\\n",
       "0                               1                             1   \n",
       "1                               1                             1   \n",
       "2                               1                             0   \n",
       "3                               1                             0   \n",
       "4                               1                             0   \n",
       "\n",
       "   Passholder Type_Walk-up    Cost  \n",
       "0                        0    90.0  \n",
       "1                        0   990.0  \n",
       "2                        0   150.0  \n",
       "3                        0  5430.0  \n",
       "4                        1   210.0  "
      ]
     },
     "execution_count": 15,
     "metadata": {},
     "output_type": "execute_result"
    }
   ],
   "source": [
    "data.head()"
   ]
  },
  {
   "cell_type": "markdown",
   "metadata": {},
   "source": [
    "### Data Visualization:\n",
    "Data visualization is viewed by many disciplines as a modern equivalent of visual communication. It involves the creation and study of the visual representation of data. To communicate information clearly and efficiently, data visualization uses statistical graphics, plots, information graphics and other tools."
   ]
  },
  {
   "cell_type": "markdown",
   "metadata": {},
   "source": [
    "###### Correlation\n",
    "Correlation cofficent (r) if 'r' is towards 0 then there no absoulte relation between the two factors, If 'r' is towards the positive 1 there they are directly propostional to each other as one factor increases the other is tend to be increasing and when 'r' is toward negative 1 then they are inversly propotional to each other as one factor increases the other tends to be decreasing"
   ]
  },
  {
   "cell_type": "code",
   "execution_count": 16,
   "metadata": {},
   "outputs": [
    {
     "data": {
      "image/png": "[encoded data removed]",
      "text/plain": [
       "<Figure size 864x576 with 2 Axes>"
      ]
     },
     "metadata": {
      "needs_background": "light"
     },
     "output_type": "display_data"
    }
   ],
   "source": [
    "#Ploting heat maps to check for factors that affect quality\n",
    "plt.figure(figsize=(12,8))\n",
    "#fmt='.2f'->2 decimals, annot -> numerical representation, iloc-> primary integer position\n",
    "sns.heatmap(data=data.iloc[:,1:].corr(),annot=True,fmt='.2f',cmap='coolwarm')\n",
    "plt.show()"
   ]
  },
  {
   "cell_type": "markdown",
   "metadata": {},
   "source": [
    "**Correlation among variables**\n",
    "with cost most correlated factors are  Trip Route Category_Round Trip, Passholder Type_Monthly Pass, Passholder Type_Walk-up."
   ]
  },
  {
   "cell_type": "markdown",
   "metadata": {},
   "source": [
    "**Pairplot**\n",
    "We'll plot the pairplot againts cost for the features"
   ]
  },
  {
   "cell_type": "code",
   "execution_count": 17,
   "metadata": {},
   "outputs": [
    {
     "data": {
      "text/plain": [
       "<seaborn.axisgrid.PairGrid at 0x28bc083d358>"
      ]
     },
     "execution_count": 17,
     "metadata": {},
     "output_type": "execute_result"
    },
    {
     "data": {
      "image/png": "[encoded data removed]",
      "text/plain": [
       "<Figure size 756x504 with 3 Axes>"
      ]
     },
     "metadata": {
      "needs_background": "light"
     },
     "output_type": "display_data"
    }
   ],
   "source": [
    "features = [ 'Trip Route Category_Round Trip', 'Passholder Type_Monthly Pass', 'Passholder Type_Walk-up']\n",
    "x = data[features]\n",
    "y = data['Cost']\n",
    "#plotting features vs age\n",
    "sns.pairplot(data,x_vars=features,y_vars='Cost',kind='reg',height=7,aspect=0.5)"
   ]
  },
  {
   "cell_type": "markdown",
   "metadata": {},
   "source": [
    "**From the above pairplots for \"Trip Route Category_Round Trip\", \"Passholder Type_Monthly Pass\", \"Passholder Type_Walk-up\" vs Cost we can see that there are more people who opt for Walkup Pass than Monthly Pass and more people prefer Round Trip than One Way Trip.** "
   ]
  },
  {
   "cell_type": "markdown",
   "metadata": {},
   "source": [
    "### Linear models"
   ]
  },
  {
   "cell_type": "markdown",
   "metadata": {},
   "source": [
    "##### Linear regression:\n",
    "In statistics, linear regression is a linear approach to modelling the relationship between a scalar response (or dependent variable) and one or more explanatory variables (or independent variables). The case of one explanatory variable is called simple linear regression. For more than one explanatory variable, the process is called multiple linear regression. This term is distinct from multivariate linear regression, where multiple correlated dependent variables are predicted, rather than a single scalar variable.\n",
    "$$y = \\beta_0 + \\beta_1 x + \\varepsilon .$$\n"
   ]
  },
  {
   "cell_type": "markdown",
   "metadata": {},
   "source": [
    "\n",
    "Multivariate Linear Regression Model takes all of the independent variables into consideration. In reality, not all of the variables observed are highly statistically important. That means, some of the variables make greater impact to the dependent variable Y, while some of the variables are not statistically important at all. "
   ]
  },
  {
   "cell_type": "markdown",
   "metadata": {},
   "source": [
    "**Model 1**- <br>\n",
    "For this we'll take all coloumns in X(independent variables) other than Cost and Duration and Cost as Y our target variables and check prediction using linear."
   ]
  },
  {
   "cell_type": "markdown",
   "metadata": {},
   "source": [
    "* Splitting the data into train and test data"
   ]
  },
  {
   "cell_type": "code",
   "execution_count": 18,
   "metadata": {},
   "outputs": [],
   "source": [
    "X = data.drop(columns=['Cost','Duration'])\n",
    "Y = data[['Cost']]"
   ]
  },
  {
   "cell_type": "code",
   "execution_count": 19,
   "metadata": {},
   "outputs": [
    {
     "name": "stdout",
     "output_type": "stream",
     "text": [
      "(104572, 12)\n",
      "(26143, 12)\n",
      "(104572, 1)\n",
      "(26143, 1)\n"
     ]
    }
   ],
   "source": [
    "X_train, X_test, Y_train, Y_test = train_test_split(X, Y, test_size = 0.2)\n",
    "print(X_train.shape)\n",
    "print(X_test.shape)\n",
    "print(Y_train.shape)\n",
    "print(Y_test.shape)"
   ]
  },
  {
   "cell_type": "markdown",
   "metadata": {},
   "source": [
    "**We'll fit our training data into regression model and calculate mean squared error <br>\n",
    "To Calculate we need to :** \n",
    "1. Find the regression line.\n",
    "2. Insert your X values into the linear regression equation to find the new Y values (Y').\n",
    "3. Subtract the new Y value from the original to get the error.\n",
    "4. Square the errors.\n",
    "5. Add up the errors.\n",
    "6. Find the mean."
   ]
  },
  {
   "cell_type": "code",
   "execution_count": 20,
   "metadata": {},
   "outputs": [
    {
     "name": "stdout",
     "output_type": "stream",
     "text": [
      "5510796.4399648085\n"
     ]
    }
   ],
   "source": [
    "reg = LinearRegression()\n",
    "reg.fit(X_train, Y_train)\n",
    "pred=reg.predict(X_test)\n",
    "pred=np.round_(pred)\n",
    "print (mean_squared_error(Y_test,pred))"
   ]
  },
  {
   "cell_type": "markdown",
   "metadata": {},
   "source": [
    "We ll get the summary of our model as it calculate all the diffrent measures or values of a model"
   ]
  },
  {
   "cell_type": "code",
   "execution_count": 21,
   "metadata": {},
   "outputs": [
    {
     "data": {
      "text/html": [
       "<table class=\"simpletable\">\n",
       "<caption>OLS Regression Results</caption>\n",
       "<tr>\n",
       "  <th>Dep. Variable:</th>          <td>Cost</td>       <th>  R-squared:         </th>  <td>   0.038</td>  \n",
       "</tr>\n",
       "<tr>\n",
       "  <th>Model:</th>                   <td>OLS</td>       <th>  Adj. R-squared:    </th>  <td>   0.038</td>  \n",
       "</tr>\n",
       "<tr>\n",
       "  <th>Method:</th>             <td>Least Squares</td>  <th>  F-statistic:       </th>  <td>   94.01</td>  \n",
       "</tr>\n",
       "<tr>\n",
       "  <th>Date:</th>             <td>Mon, 25 Feb 2019</td> <th>  Prob (F-statistic):</th>  <td>1.58e-210</td> \n",
       "</tr>\n",
       "<tr>\n",
       "  <th>Time:</th>                 <td>22:48:01</td>     <th>  Log-Likelihood:    </th> <td>-2.3999e+05</td>\n",
       "</tr>\n",
       "<tr>\n",
       "  <th>No. Observations:</th>      <td> 26143</td>      <th>  AIC:               </th>  <td>4.800e+05</td> \n",
       "</tr>\n",
       "<tr>\n",
       "  <th>Df Residuals:</th>          <td> 26131</td>      <th>  BIC:               </th>  <td>4.801e+05</td> \n",
       "</tr>\n",
       "<tr>\n",
       "  <th>Df Model:</th>              <td>    11</td>      <th>                     </th>      <td> </td>     \n",
       "</tr>\n",
       "<tr>\n",
       "  <th>Covariance Type:</th>      <td>nonrobust</td>    <th>                     </th>      <td> </td>     \n",
       "</tr>\n",
       "</table>\n",
       "<table class=\"simpletable\">\n",
       "<tr>\n",
       "                 <td></td>                   <th>coef</th>     <th>std err</th>      <th>t</th>      <th>P>|t|</th>  <th>[0.025</th>    <th>0.975]</th>  \n",
       "</tr>\n",
       "<tr>\n",
       "  <th>Trip ID</th>                        <td>-5.148e-06</td> <td>  2.3e-06</td> <td>   -2.240</td> <td> 0.025</td> <td>-9.65e-06</td> <td>-6.44e-07</td>\n",
       "</tr>\n",
       "<tr>\n",
       "  <th>Starting Station ID</th>            <td>   -0.6162</td> <td>    0.559</td> <td>   -1.103</td> <td> 0.270</td> <td>   -1.712</td> <td>    0.479</td>\n",
       "</tr>\n",
       "<tr>\n",
       "  <th>Starting Station Latitude</th>      <td>-3385.8494</td> <td> 2010.092</td> <td>   -1.684</td> <td> 0.092</td> <td>-7325.739</td> <td>  554.041</td>\n",
       "</tr>\n",
       "<tr>\n",
       "  <th>Starting Station Longitude</th>     <td> -967.6679</td> <td>  578.590</td> <td>   -1.672</td> <td> 0.094</td> <td>-2101.735</td> <td>  166.400</td>\n",
       "</tr>\n",
       "<tr>\n",
       "  <th>Ending Station ID</th>              <td>   -0.7451</td> <td>    0.567</td> <td>   -1.314</td> <td> 0.189</td> <td>   -1.857</td> <td>    0.366</td>\n",
       "</tr>\n",
       "<tr>\n",
       "  <th>Ending Station Latitude</th>        <td>  356.2943</td> <td> 2010.924</td> <td>    0.177</td> <td> 0.859</td> <td>-3585.227</td> <td> 4297.816</td>\n",
       "</tr>\n",
       "<tr>\n",
       "  <th>Ending Station Longitude</th>       <td>  111.4184</td> <td>  578.853</td> <td>    0.192</td> <td> 0.847</td> <td>-1023.166</td> <td> 1246.002</td>\n",
       "</tr>\n",
       "<tr>\n",
       "  <th>Bike ID</th>                        <td>   -0.0046</td> <td>    0.050</td> <td>   -0.092</td> <td> 0.927</td> <td>   -0.102</td> <td>    0.093</td>\n",
       "</tr>\n",
       "<tr>\n",
       "  <th>Plan Duration</th>                  <td>   18.3774</td> <td>    7.427</td> <td>    2.475</td> <td> 0.013</td> <td>    3.821</td> <td>   32.934</td>\n",
       "</tr>\n",
       "<tr>\n",
       "  <th>Trip Route Category_Round Trip</th> <td>  706.8488</td> <td>   50.814</td> <td>   13.910</td> <td> 0.000</td> <td>  607.250</td> <td>  806.448</td>\n",
       "</tr>\n",
       "<tr>\n",
       "  <th>Passholder Type_Monthly Pass</th>   <td> 5915.5372</td> <td> 2486.527</td> <td>    2.379</td> <td> 0.017</td> <td> 1041.808</td> <td> 1.08e+04</td>\n",
       "</tr>\n",
       "<tr>\n",
       "  <th>Passholder Type_Walk-up</th>        <td> 7261.6677</td> <td> 2710.744</td> <td>    2.679</td> <td> 0.007</td> <td> 1948.462</td> <td> 1.26e+04</td>\n",
       "</tr>\n",
       "</table>\n",
       "<table class=\"simpletable\">\n",
       "<tr>\n",
       "  <th>Omnibus:</th>       <td>47778.669</td> <th>  Durbin-Watson:     </th>   <td>   1.997</td>  \n",
       "</tr>\n",
       "<tr>\n",
       "  <th>Prob(Omnibus):</th>  <td> 0.000</td>   <th>  Jarque-Bera (JB):  </th> <td>53499324.626</td>\n",
       "</tr>\n",
       "<tr>\n",
       "  <th>Skew:</th>           <td>13.812</td>   <th>  Prob(JB):          </th>   <td>    0.00</td>  \n",
       "</tr>\n",
       "<tr>\n",
       "  <th>Kurtosis:</th>       <td>222.888</td>  <th>  Cond. No.          </th>   <td>3.31e+09</td>  \n",
       "</tr>\n",
       "</table><br/><br/>Warnings:<br/>[1] Standard Errors assume that the covariance matrix of the errors is correctly specified.<br/>[2] The condition number is large, 3.31e+09. This might indicate that there are<br/>strong multicollinearity or other numerical problems."
      ],
      "text/plain": [
       "<class 'statsmodels.iolib.summary.Summary'>\n",
       "\"\"\"\n",
       "                            OLS Regression Results                            \n",
       "==============================================================================\n",
       "Dep. Variable:                   Cost   R-squared:                       0.038\n",
       "Model:                            OLS   Adj. R-squared:                  0.038\n",
       "Method:                 Least Squares   F-statistic:                     94.01\n",
       "Date:                Mon, 25 Feb 2019   Prob (F-statistic):          1.58e-210\n",
       "Time:                        22:48:01   Log-Likelihood:            -2.3999e+05\n",
       "No. Observations:               26143   AIC:                         4.800e+05\n",
       "Df Residuals:                   26131   BIC:                         4.801e+05\n",
       "Df Model:                          11                                         \n",
       "Covariance Type:            nonrobust                                         \n",
       "==================================================================================================\n",
       "                                     coef    std err          t      P>|t|      [0.025      0.975]\n",
       "--------------------------------------------------------------------------------------------------\n",
       "Trip ID                        -5.148e-06    2.3e-06     -2.240      0.025   -9.65e-06   -6.44e-07\n",
       "Starting Station ID               -0.6162      0.559     -1.103      0.270      -1.712       0.479\n",
       "Starting Station Latitude      -3385.8494   2010.092     -1.684      0.092   -7325.739     554.041\n",
       "Starting Station Longitude      -967.6679    578.590     -1.672      0.094   -2101.735     166.400\n",
       "Ending Station ID                 -0.7451      0.567     -1.314      0.189      -1.857       0.366\n",
       "Ending Station Latitude          356.2943   2010.924      0.177      0.859   -3585.227    4297.816\n",
       "Ending Station Longitude         111.4184    578.853      0.192      0.847   -1023.166    1246.002\n",
       "Bike ID                           -0.0046      0.050     -0.092      0.927      -0.102       0.093\n",
       "Plan Duration                     18.3774      7.427      2.475      0.013       3.821      32.934\n",
       "Trip Route Category_Round Trip   706.8488     50.814     13.910      0.000     607.250     806.448\n",
       "Passholder Type_Monthly Pass    5915.5372   2486.527      2.379      0.017    1041.808    1.08e+04\n",
       "Passholder Type_Walk-up         7261.6677   2710.744      2.679      0.007    1948.462    1.26e+04\n",
       "==============================================================================\n",
       "Omnibus:                    47778.669   Durbin-Watson:                   1.997\n",
       "Prob(Omnibus):                  0.000   Jarque-Bera (JB):         53499324.626\n",
       "Skew:                          13.812   Prob(JB):                         0.00\n",
       "Kurtosis:                     222.888   Cond. No.                     3.31e+09\n",
       "==============================================================================\n",
       "\n",
       "Warnings:\n",
       "[1] Standard Errors assume that the covariance matrix of the errors is correctly specified.\n",
       "[2] The condition number is large, 3.31e+09. This might indicate that there are\n",
       "strong multicollinearity or other numerical problems.\n",
       "\"\"\""
      ]
     },
     "execution_count": 21,
     "metadata": {},
     "output_type": "execute_result"
    }
   ],
   "source": [
    "model = sm.OLS(Y_test.astype(float),X_test.astype(float))\n",
    "results = model.fit()\n",
    "results.summary()"
   ]
  },
  {
   "cell_type": "code",
   "execution_count": 22,
   "metadata": {
    "scrolled": true
   },
   "outputs": [
    {
     "data": {
      "text/plain": [
       "0.037459774585567374"
      ]
     },
     "execution_count": 22,
     "metadata": {},
     "output_type": "execute_result"
    }
   ],
   "source": [
    "#Checking R score for regression\n",
    "reg.score(X_test,Y_test)"
   ]
  },
  {
   "cell_type": "markdown",
   "metadata": {},
   "source": [
    "##### Cross validation of model using k-fold cross validation\n",
    "Cross-validation is a resampling procedure used to evaluate machine learning models on a limited data sample. The procedure has a single parameter called k that refers to the number of groups that a given data sample is to be split into. As such, the procedure is often called k-fold cross-validation. When a specific value for k is chosen, it may be used in place of k in the reference to the model, such as k=10 becoming 10-fold cross-validation.\n",
    "\n",
    "The general procedure is as follows:\n",
    "1. Shuffle the dataset randomly.\n",
    "2. Split the dataset into k groups\n",
    "3. For each unique group:\n",
    "4. Take the group as a hold out or test data set\n",
    "5. Take the remaining groups as a training data set\n",
    "6. Fit a model on the training set and evaluate it on the test set\n",
    "7. Retain the evaluation score and discard the model\n",
    "8. Summarize the skill of the model using the sample of model evaluation scores"
   ]
  },
  {
   "cell_type": "code",
   "execution_count": 23,
   "metadata": {
    "scrolled": false
   },
   "outputs": [
    {
     "data": {
      "text/plain": [
       "3.7068374983666925"
      ]
     },
     "execution_count": 23,
     "metadata": {},
     "output_type": "execute_result"
    }
   ],
   "source": [
    "#k-fold \n",
    "from sklearn.model_selection import cross_val_score\n",
    "accuracy = cross_val_score(estimator = reg, X= X_test, y= Y_test, cv = 5)\n",
    "accuracy.mean()*100"
   ]
  },
  {
   "cell_type": "markdown",
   "metadata": {},
   "source": [
    "From **Model 1** summary we can see that  R^2 and Adj.R^2 (R^2 values is statistical measure how close the data are to be fitted with regression line, A high R^2 value is a good model) value is 1.\n",
    "And, AIC and BIC are both penalized-likelihood criteria. Both are of the form “measure of fit + complexity penalty” & also we got k-flod cross validation for our model.\n",
    "\n",
    "* Is the relationship significant? - Yes  \n",
    "* Are any model assumptions violated? - No     \n",
    "* Does the model make sense? Interpret the meaning of each independent variable. <br>\n",
    "  - Yes \n",
    "* Cross-validate the model. How well did it do? - 3.96\n",
    "* Compare the AIC, BIC and adjusted R^2.  Do they agree in their ranking of the models?  \n",
    "  - R-squared:\t0.041 <br>\n",
    "    AIC- 4.783e+05 <br>\n",
    "    BIC- 4.784e+05 <br>"
   ]
  },
  {
   "cell_type": "markdown",
   "metadata": {},
   "source": [
    "**Model 2**-"
   ]
  },
  {
   "cell_type": "markdown",
   "metadata": {},
   "source": [
    "For model 2: Now, lets check with diffrent parameters accordingly that if our accuracy score increses or not"
   ]
  },
  {
   "cell_type": "code",
   "execution_count": 24,
   "metadata": {},
   "outputs": [
    {
     "data": {
      "text/html": [
       "<div>\n",
       "<style scoped>\n",
       "    .dataframe tbody tr th:only-of-type {\n",
       "        vertical-align: middle;\n",
       "    }\n",
       "\n",
       "    .dataframe tbody tr th {\n",
       "        vertical-align: top;\n",
       "    }\n",
       "\n",
       "    .dataframe thead th {\n",
       "        text-align: right;\n",
       "    }\n",
       "</style>\n",
       "<table border=\"1\" class=\"dataframe\">\n",
       "  <thead>\n",
       "    <tr style=\"text-align: right;\">\n",
       "      <th></th>\n",
       "      <th>Plan Duration</th>\n",
       "      <th>Trip Route Category_Round Trip</th>\n",
       "      <th>Passholder Type_Monthly Pass</th>\n",
       "      <th>Passholder Type_Walk-up</th>\n",
       "    </tr>\n",
       "  </thead>\n",
       "  <tbody>\n",
       "    <tr>\n",
       "      <th>0</th>\n",
       "      <td>30.0</td>\n",
       "      <td>1</td>\n",
       "      <td>1</td>\n",
       "      <td>0</td>\n",
       "    </tr>\n",
       "    <tr>\n",
       "      <th>1</th>\n",
       "      <td>30.0</td>\n",
       "      <td>1</td>\n",
       "      <td>1</td>\n",
       "      <td>0</td>\n",
       "    </tr>\n",
       "    <tr>\n",
       "      <th>2</th>\n",
       "      <td>365.0</td>\n",
       "      <td>1</td>\n",
       "      <td>0</td>\n",
       "      <td>0</td>\n",
       "    </tr>\n",
       "    <tr>\n",
       "      <th>3</th>\n",
       "      <td>365.0</td>\n",
       "      <td>1</td>\n",
       "      <td>0</td>\n",
       "      <td>0</td>\n",
       "    </tr>\n",
       "    <tr>\n",
       "      <th>4</th>\n",
       "      <td>0.0</td>\n",
       "      <td>1</td>\n",
       "      <td>0</td>\n",
       "      <td>1</td>\n",
       "    </tr>\n",
       "  </tbody>\n",
       "</table>\n",
       "</div>"
      ],
      "text/plain": [
       "   Plan Duration  Trip Route Category_Round Trip  \\\n",
       "0           30.0                               1   \n",
       "1           30.0                               1   \n",
       "2          365.0                               1   \n",
       "3          365.0                               1   \n",
       "4            0.0                               1   \n",
       "\n",
       "   Passholder Type_Monthly Pass  Passholder Type_Walk-up  \n",
       "0                             1                        0  \n",
       "1                             1                        0  \n",
       "2                             0                        0  \n",
       "3                             0                        0  \n",
       "4                             0                        1  "
      ]
     },
     "execution_count": 24,
     "metadata": {},
     "output_type": "execute_result"
    }
   ],
   "source": [
    "X=data[['Plan Duration', 'Trip Route Category_Round Trip', 'Passholder Type_Monthly Pass', 'Passholder Type_Walk-up']]\n",
    "X.head()"
   ]
  },
  {
   "cell_type": "code",
   "execution_count": 25,
   "metadata": {},
   "outputs": [
    {
     "name": "stdout",
     "output_type": "stream",
     "text": [
      "(104572, 4)\n",
      "(26143, 4)\n",
      "(104572, 1)\n",
      "(26143, 1)\n"
     ]
    }
   ],
   "source": [
    "#train-test Split\n",
    "X_train, X_test, Y_train, Y_test = train_test_split(X, Y, test_size = 0.2)\n",
    "print(X_train.shape)\n",
    "print(X_test.shape)\n",
    "print(Y_train.shape)\n",
    "print(Y_test.shape)"
   ]
  },
  {
   "cell_type": "code",
   "execution_count": 26,
   "metadata": {},
   "outputs": [
    {
     "name": "stdout",
     "output_type": "stream",
     "text": [
      "4903334.174348774\n"
     ]
    }
   ],
   "source": [
    "# Linear regression\n",
    "reg = LinearRegression()\n",
    "reg.fit(X_train, Y_train)\n",
    "pred=reg.predict(X_test)\n",
    "pred=np.round_(pred)\n",
    "print (mean_squared_error(Y_test,pred))"
   ]
  },
  {
   "cell_type": "markdown",
   "metadata": {},
   "source": [
    "As we see that Mean_squared_error is zero so this model is perfect fit "
   ]
  },
  {
   "cell_type": "markdown",
   "metadata": {},
   "source": [
    "Let's get summarized result of our model"
   ]
  },
  {
   "cell_type": "code",
   "execution_count": 27,
   "metadata": {},
   "outputs": [
    {
     "data": {
      "text/html": [
       "<table class=\"simpletable\">\n",
       "<caption>OLS Regression Results</caption>\n",
       "<tr>\n",
       "  <th>Dep. Variable:</th>          <td>Cost</td>       <th>  R-squared:         </th>  <td>   0.038</td>  \n",
       "</tr>\n",
       "<tr>\n",
       "  <th>Model:</th>                   <td>OLS</td>       <th>  Adj. R-squared:    </th>  <td>   0.037</td>  \n",
       "</tr>\n",
       "<tr>\n",
       "  <th>Method:</th>             <td>Least Squares</td>  <th>  F-statistic:       </th>  <td>   340.2</td>  \n",
       "</tr>\n",
       "<tr>\n",
       "  <th>Date:</th>             <td>Mon, 25 Feb 2019</td> <th>  Prob (F-statistic):</th>  <td>9.89e-217</td> \n",
       "</tr>\n",
       "<tr>\n",
       "  <th>Time:</th>                 <td>22:48:01</td>     <th>  Log-Likelihood:    </th> <td>-2.3846e+05</td>\n",
       "</tr>\n",
       "<tr>\n",
       "  <th>No. Observations:</th>      <td> 26143</td>      <th>  AIC:               </th>  <td>4.769e+05</td> \n",
       "</tr>\n",
       "<tr>\n",
       "  <th>Df Residuals:</th>          <td> 26139</td>      <th>  BIC:               </th>  <td>4.770e+05</td> \n",
       "</tr>\n",
       "<tr>\n",
       "  <th>Df Model:</th>              <td>     3</td>      <th>                     </th>      <td> </td>     \n",
       "</tr>\n",
       "<tr>\n",
       "  <th>Covariance Type:</th>      <td>nonrobust</td>    <th>                     </th>      <td> </td>     \n",
       "</tr>\n",
       "</table>\n",
       "<table class=\"simpletable\">\n",
       "<tr>\n",
       "                 <td></td>                   <th>coef</th>     <th>std err</th>      <th>t</th>      <th>P>|t|</th>  <th>[0.025</th>    <th>0.975]</th>  \n",
       "</tr>\n",
       "<tr>\n",
       "  <th>Plan Duration</th>                  <td>    1.4811</td> <td>    0.139</td> <td>   10.620</td> <td> 0.000</td> <td>    1.208</td> <td>    1.755</td>\n",
       "</tr>\n",
       "<tr>\n",
       "  <th>Trip Route Category_Round Trip</th> <td>  715.3994</td> <td>   48.316</td> <td>   14.807</td> <td> 0.000</td> <td>  620.698</td> <td>  810.101</td>\n",
       "</tr>\n",
       "<tr>\n",
       "  <th>Passholder Type_Monthly Pass</th>   <td>  320.4865</td> <td>   18.014</td> <td>   17.791</td> <td> 0.000</td> <td>  285.178</td> <td>  355.795</td>\n",
       "</tr>\n",
       "<tr>\n",
       "  <th>Passholder Type_Walk-up</th>        <td> 1102.4072</td> <td>   26.538</td> <td>   41.540</td> <td> 0.000</td> <td> 1050.390</td> <td> 1154.424</td>\n",
       "</tr>\n",
       "</table>\n",
       "<table class=\"simpletable\">\n",
       "<tr>\n",
       "  <th>Omnibus:</th>       <td>48146.909</td> <th>  Durbin-Watson:     </th>   <td>   2.016</td>  \n",
       "</tr>\n",
       "<tr>\n",
       "  <th>Prob(Omnibus):</th>  <td> 0.000</td>   <th>  Jarque-Bera (JB):  </th> <td>59869233.146</td>\n",
       "</tr>\n",
       "<tr>\n",
       "  <th>Skew:</th>           <td>13.996</td>   <th>  Prob(JB):          </th>   <td>    0.00</td>  \n",
       "</tr>\n",
       "<tr>\n",
       "  <th>Kurtosis:</th>       <td>235.762</td>  <th>  Cond. No.          </th>   <td>    367.</td>  \n",
       "</tr>\n",
       "</table><br/><br/>Warnings:<br/>[1] Standard Errors assume that the covariance matrix of the errors is correctly specified."
      ],
      "text/plain": [
       "<class 'statsmodels.iolib.summary.Summary'>\n",
       "\"\"\"\n",
       "                            OLS Regression Results                            \n",
       "==============================================================================\n",
       "Dep. Variable:                   Cost   R-squared:                       0.038\n",
       "Model:                            OLS   Adj. R-squared:                  0.037\n",
       "Method:                 Least Squares   F-statistic:                     340.2\n",
       "Date:                Mon, 25 Feb 2019   Prob (F-statistic):          9.89e-217\n",
       "Time:                        22:48:01   Log-Likelihood:            -2.3846e+05\n",
       "No. Observations:               26143   AIC:                         4.769e+05\n",
       "Df Residuals:                   26139   BIC:                         4.770e+05\n",
       "Df Model:                           3                                         \n",
       "Covariance Type:            nonrobust                                         \n",
       "==================================================================================================\n",
       "                                     coef    std err          t      P>|t|      [0.025      0.975]\n",
       "--------------------------------------------------------------------------------------------------\n",
       "Plan Duration                      1.4811      0.139     10.620      0.000       1.208       1.755\n",
       "Trip Route Category_Round Trip   715.3994     48.316     14.807      0.000     620.698     810.101\n",
       "Passholder Type_Monthly Pass     320.4865     18.014     17.791      0.000     285.178     355.795\n",
       "Passholder Type_Walk-up         1102.4072     26.538     41.540      0.000    1050.390    1154.424\n",
       "==============================================================================\n",
       "Omnibus:                    48146.909   Durbin-Watson:                   2.016\n",
       "Prob(Omnibus):                  0.000   Jarque-Bera (JB):         59869233.146\n",
       "Skew:                          13.996   Prob(JB):                         0.00\n",
       "Kurtosis:                     235.762   Cond. No.                         367.\n",
       "==============================================================================\n",
       "\n",
       "Warnings:\n",
       "[1] Standard Errors assume that the covariance matrix of the errors is correctly specified.\n",
       "\"\"\""
      ]
     },
     "execution_count": 27,
     "metadata": {},
     "output_type": "execute_result"
    }
   ],
   "source": [
    "model = sm.OLS(Y_test.astype(float),X_test.astype(float))\n",
    "results = model.fit()\n",
    "results.summary()"
   ]
  },
  {
   "cell_type": "code",
   "execution_count": 28,
   "metadata": {},
   "outputs": [
    {
     "data": {
      "text/plain": [
       "0.03732739911152405"
      ]
     },
     "execution_count": 28,
     "metadata": {},
     "output_type": "execute_result"
    }
   ],
   "source": [
    "#checking R score for regression\n",
    "reg.score(X_test,Y_test)"
   ]
  },
  {
   "cell_type": "code",
   "execution_count": 29,
   "metadata": {},
   "outputs": [
    {
     "data": {
      "text/plain": [
       "3.75264628048491"
      ]
     },
     "execution_count": 29,
     "metadata": {},
     "output_type": "execute_result"
    }
   ],
   "source": [
    "#calclating accuracy of model\n",
    "from sklearn.model_selection import cross_val_score\n",
    "accuracy = cross_val_score(estimator = reg, X= X_test, y= Y_test, cv = 5)\n",
    "accuracy.mean()*100"
   ]
  },
  {
   "cell_type": "markdown",
   "metadata": {},
   "source": [
    "For Model 2 :\n",
    "* Is the relationship significant? - Yes  \n",
    "* Are any model assumptions violated? - No     \n",
    "* Does the model make sense? Interpret the meaning of each independent variable. <br>\n",
    "  - Yes \n",
    "* Cross-validate the model. How well did it do? - 3.90\n",
    "* Compare the AIC, BIC and adjusted R^2.  Do they agree in their ranking of the models?  \n",
    "  - R-squared:\t0.041 <br>\n",
    "    AIC- 4.804e+05 <br>\n",
    "    BIC- 4.804e+05 <br>"
   ]
  },
  {
   "cell_type": "markdown",
   "metadata": {},
   "source": [
    "**Model 3**-"
   ]
  },
  {
   "cell_type": "markdown",
   "metadata": {},
   "source": [
    "In this model we will taken some features based on the correlation we have obtained we'll take the variables like  Walkup pass,Monthlypass,FlexPass,One way trip or Round trip."
   ]
  },
  {
   "cell_type": "code",
   "execution_count": 30,
   "metadata": {},
   "outputs": [],
   "source": [
    "X=data[['Trip Route Category_Round Trip', 'Passholder Type_Monthly Pass', 'Passholder Type_Walk-up']]\n",
    "\n",
    "Y = data[['Cost']]"
   ]
  },
  {
   "cell_type": "code",
   "execution_count": 31,
   "metadata": {},
   "outputs": [
    {
     "name": "stdout",
     "output_type": "stream",
     "text": [
      "(104572, 3)\n",
      "(26143, 3)\n",
      "(104572, 1)\n",
      "(26143, 1)\n"
     ]
    }
   ],
   "source": [
    "# train-test split\n",
    "X_train, X_test, Y_train, Y_test = train_test_split(X, Y, test_size = 0.2)\n",
    "print(X_train.shape)\n",
    "print(X_test.shape)\n",
    "print(Y_train.shape)\n",
    "print(Y_test.shape)"
   ]
  },
  {
   "cell_type": "code",
   "execution_count": 32,
   "metadata": {},
   "outputs": [
    {
     "name": "stdout",
     "output_type": "stream",
     "text": [
      "4916224.147802471\n"
     ]
    }
   ],
   "source": [
    "#Linear regression\n",
    "reg = LinearRegression()\n",
    "reg.fit(X_train, Y_train)\n",
    "pred=reg.predict(X_test)\n",
    "pred=np.round_(pred)\n",
    "print (mean_squared_error(Y_test,pred))"
   ]
  },
  {
   "cell_type": "code",
   "execution_count": 33,
   "metadata": {},
   "outputs": [
    {
     "data": {
      "text/html": [
       "<table class=\"simpletable\">\n",
       "<caption>OLS Regression Results</caption>\n",
       "<tr>\n",
       "  <th>Dep. Variable:</th>          <td>Cost</td>       <th>  R-squared:         </th>  <td>   0.111</td>  \n",
       "</tr>\n",
       "<tr>\n",
       "  <th>Model:</th>                   <td>OLS</td>       <th>  Adj. R-squared:    </th>  <td>   0.111</td>  \n",
       "</tr>\n",
       "<tr>\n",
       "  <th>Method:</th>             <td>Least Squares</td>  <th>  F-statistic:       </th>  <td>   5451.</td>  \n",
       "</tr>\n",
       "<tr>\n",
       "  <th>Date:</th>             <td>Mon, 25 Feb 2019</td> <th>  Prob (F-statistic):</th>   <td>  0.00</td>   \n",
       "</tr>\n",
       "<tr>\n",
       "  <th>Time:</th>                 <td>22:48:02</td>     <th>  Log-Likelihood:    </th> <td>-1.1970e+06</td>\n",
       "</tr>\n",
       "<tr>\n",
       "  <th>No. Observations:</th>      <td>130715</td>      <th>  AIC:               </th>  <td>2.394e+06</td> \n",
       "</tr>\n",
       "<tr>\n",
       "  <th>Df Residuals:</th>          <td>130712</td>      <th>  BIC:               </th>  <td>2.394e+06</td> \n",
       "</tr>\n",
       "<tr>\n",
       "  <th>Df Model:</th>              <td>     3</td>      <th>                     </th>      <td> </td>     \n",
       "</tr>\n",
       "<tr>\n",
       "  <th>Covariance Type:</th>      <td>nonrobust</td>    <th>                     </th>      <td> </td>     \n",
       "</tr>\n",
       "</table>\n",
       "<table class=\"simpletable\">\n",
       "<tr>\n",
       "                 <td></td>                   <th>coef</th>     <th>std err</th>      <th>t</th>      <th>P>|t|</th>  <th>[0.025</th>    <th>0.975]</th>  \n",
       "</tr>\n",
       "<tr>\n",
       "  <th>Trip Route Category_Round Trip</th> <td>  800.0512</td> <td>   22.167</td> <td>   36.092</td> <td> 0.000</td> <td>  756.604</td> <td>  843.498</td>\n",
       "</tr>\n",
       "<tr>\n",
       "  <th>Passholder Type_Monthly Pass</th>   <td>  351.7057</td> <td>    8.149</td> <td>   43.160</td> <td> 0.000</td> <td>  335.734</td> <td>  367.677</td>\n",
       "</tr>\n",
       "<tr>\n",
       "  <th>Passholder Type_Walk-up</th>        <td> 1117.0432</td> <td>   12.260</td> <td>   91.115</td> <td> 0.000</td> <td> 1093.014</td> <td> 1141.072</td>\n",
       "</tr>\n",
       "</table>\n",
       "<table class=\"simpletable\">\n",
       "<tr>\n",
       "  <th>Omnibus:</th>       <td>236753.052</td> <th>  Durbin-Watson:     </th>   <td>   1.923</td>   \n",
       "</tr>\n",
       "<tr>\n",
       "  <th>Prob(Omnibus):</th>   <td> 0.000</td>   <th>  Jarque-Bera (JB):  </th> <td>258670802.271</td>\n",
       "</tr>\n",
       "<tr>\n",
       "  <th>Skew:</th>            <td>13.586</td>   <th>  Prob(JB):          </th>   <td>    0.00</td>   \n",
       "</tr>\n",
       "<tr>\n",
       "  <th>Kurtosis:</th>        <td>219.229</td>  <th>  Cond. No.          </th>   <td>    2.83</td>   \n",
       "</tr>\n",
       "</table><br/><br/>Warnings:<br/>[1] Standard Errors assume that the covariance matrix of the errors is correctly specified."
      ],
      "text/plain": [
       "<class 'statsmodels.iolib.summary.Summary'>\n",
       "\"\"\"\n",
       "                            OLS Regression Results                            \n",
       "==============================================================================\n",
       "Dep. Variable:                   Cost   R-squared:                       0.111\n",
       "Model:                            OLS   Adj. R-squared:                  0.111\n",
       "Method:                 Least Squares   F-statistic:                     5451.\n",
       "Date:                Mon, 25 Feb 2019   Prob (F-statistic):               0.00\n",
       "Time:                        22:48:02   Log-Likelihood:            -1.1970e+06\n",
       "No. Observations:              130715   AIC:                         2.394e+06\n",
       "Df Residuals:                  130712   BIC:                         2.394e+06\n",
       "Df Model:                           3                                         \n",
       "Covariance Type:            nonrobust                                         \n",
       "==================================================================================================\n",
       "                                     coef    std err          t      P>|t|      [0.025      0.975]\n",
       "--------------------------------------------------------------------------------------------------\n",
       "Trip Route Category_Round Trip   800.0512     22.167     36.092      0.000     756.604     843.498\n",
       "Passholder Type_Monthly Pass     351.7057      8.149     43.160      0.000     335.734     367.677\n",
       "Passholder Type_Walk-up         1117.0432     12.260     91.115      0.000    1093.014    1141.072\n",
       "==============================================================================\n",
       "Omnibus:                   236753.052   Durbin-Watson:                   1.923\n",
       "Prob(Omnibus):                  0.000   Jarque-Bera (JB):        258670802.271\n",
       "Skew:                          13.586   Prob(JB):                         0.00\n",
       "Kurtosis:                     219.229   Cond. No.                         2.83\n",
       "==============================================================================\n",
       "\n",
       "Warnings:\n",
       "[1] Standard Errors assume that the covariance matrix of the errors is correctly specified.\n",
       "\"\"\""
      ]
     },
     "execution_count": 33,
     "metadata": {},
     "output_type": "execute_result"
    }
   ],
   "source": [
    "#summary\n",
    "m1 = sm.OLS(Y.astype(float), X.astype(float)).fit()\n",
    "m1.summary()"
   ]
  },
  {
   "cell_type": "code",
   "execution_count": 34,
   "metadata": {},
   "outputs": [
    {
     "data": {
      "text/plain": [
       "0.04037884441464157"
      ]
     },
     "execution_count": 34,
     "metadata": {},
     "output_type": "execute_result"
    }
   ],
   "source": [
    "#checking R score for regression\n",
    "reg.score(X_test,Y_test)"
   ]
  },
  {
   "cell_type": "code",
   "execution_count": 35,
   "metadata": {},
   "outputs": [
    {
     "data": {
      "text/plain": [
       "3.9993950675147905"
      ]
     },
     "execution_count": 35,
     "metadata": {},
     "output_type": "execute_result"
    }
   ],
   "source": [
    "#calculating accuracy\n",
    "from sklearn.model_selection import cross_val_score\n",
    "accuracy = cross_val_score(estimator = reg, X= X_test, y= Y_test, cv = 5)\n",
    "accuracy.mean()*100"
   ]
  },
  {
   "cell_type": "markdown",
   "metadata": {},
   "source": [
    "For Model 3:\n",
    "* Is the relationship significant? - Yes  \n",
    "* Are any model assumptions violated? - No     \n",
    "* Does the model make sense? Interpret the meaning of each independent variable. <br>\n",
    "  - Yes \n",
    "* Cross-validate the model. How well did it do? - 3.80\n",
    "* Compare the AIC, BIC and adjusted R^2.  Do they agree in their ranking of the models?  \n",
    "  - R-squared:\t0.111 <br>\n",
    "    AIC- 2.394e+06 <br>\n",
    "    BIC- 2.394e+06 <br>\n",
    "    \n",
    "    Hence, Model 3 gives us the best results"
   ]
  },
  {
   "cell_type": "markdown",
   "metadata": {},
   "source": [
    "### Logistic Model:\n"
   ]
  },
  {
   "cell_type": "markdown",
   "metadata": {},
   "source": [
    "Logistic regression , or logit regression, or is a regression model where the outcome variable is categorical. Often this is used when the variable is binary (e.g. yes/no, survived/dead, pass/fail, etc.). Logistic regression measures the relationship between the categorical response variable and one or more predictor variables by estimating probabilities. \n",
    "\n",
    "**Logistic regression:** log-odds of a categorical response being \"true\" (1) is modeled as a linear combination of the features:\n",
    "\n",
    "$$\\ln \\left({p\\over 1-p}\\right) = \\beta_0 + \\beta_1x$$\n"
   ]
  },
  {
   "cell_type": "markdown",
   "metadata": {},
   "source": [
    "**Model 1** <br>\n",
    "In this model we'll predict whether PASSHOLDER TYPE is \"Walk-up\" OR \"Not\""
   ]
  },
  {
   "cell_type": "code",
   "execution_count": 36,
   "metadata": {},
   "outputs": [],
   "source": [
    "X = data.drop(columns=['Passholder Type_Walk-up','Passholder Type_Monthly Pass','Plan Duration'])\n",
    "Y = data['Passholder Type_Walk-up']"
   ]
  },
  {
   "cell_type": "markdown",
   "metadata": {},
   "source": [
    "**We'll split it into the train_test data**"
   ]
  },
  {
   "cell_type": "code",
   "execution_count": 37,
   "metadata": {},
   "outputs": [
    {
     "name": "stdout",
     "output_type": "stream",
     "text": [
      "(104572, 11)\n",
      "(26143, 11)\n",
      "(104572,)\n",
      "(26143,)\n"
     ]
    }
   ],
   "source": [
    "X_train, X_test, Y_train, Y_test = train_test_split(X, Y, test_size = 0.2)\n",
    "print(X_train.shape)\n",
    "print(X_test.shape)\n",
    "print(Y_train.shape)\n",
    "print(Y_test.shape)"
   ]
  },
  {
   "cell_type": "markdown",
   "metadata": {},
   "source": [
    "Taking the LogisticRegression from sklearn and fitting our training data into it and checking its accuracy."
   ]
  },
  {
   "cell_type": "code",
   "execution_count": 38,
   "metadata": {
    "scrolled": true
   },
   "outputs": [
    {
     "name": "stdout",
     "output_type": "stream",
     "text": [
      "71.71709444210688\n"
     ]
    }
   ],
   "source": [
    "lr = LogisticRegression()\n",
    "lr.fit(X_train, Y_train)\n",
    "lr_predict = lr.predict(X_test)\n",
    "lr_conf_matrix = confusion_matrix(Y_test, lr_predict)\n",
    "lr_acc_score = accuracy_score(Y_test, lr_predict)\n",
    "print(lr_acc_score*100)"
   ]
  },
  {
   "cell_type": "markdown",
   "metadata": {},
   "source": [
    "**K-fold Cross validation:**\n",
    "The procedure has a single parameter called k that refers to the number of groups that a given data sample is to be split into. As such, the procedure is often called k-fold cross-validation. When a specific value for k is chosen, it may be used in place of k in the reference to the model, such as k=10 becoming 10-fold cross-validation.\n",
    "The general procedure is as follows:\n",
    "\n",
    "1. Shuffle the dataset randomly.\n",
    "2. Split the dataset into k groups\n",
    "3. For each unique group:\n",
    "   a. Take the group as a hold out or test data set <br>\n",
    "   b. Take the remaining groups as a training data set<br>\n",
    "   c. Fit a model on the training set and evaluate it on the test set<br>\n",
    "   d. Retain the evaluation score and discard the model\n",
    "4. Summarize the skill of the model using the sample of model evaluation scores"
   ]
  },
  {
   "cell_type": "code",
   "execution_count": 39,
   "metadata": {},
   "outputs": [
    {
     "name": "stdout",
     "output_type": "stream",
     "text": [
      "10-fold cross validation average accuracy: 0.713\n"
     ]
    }
   ],
   "source": [
    "from sklearn import model_selection\n",
    "from sklearn.model_selection import cross_val_score\n",
    "kfold = model_selection.KFold(n_splits=10, random_state=7)\n",
    "modelCV = LogisticRegression()\n",
    "scoring = 'accuracy'\n",
    "results = model_selection.cross_val_score(modelCV, X_train, Y_train, cv=kfold, scoring=scoring)\n",
    "print(\"10-fold cross validation average accuracy: %.3f\" % (results.mean()))"
   ]
  },
  {
   "cell_type": "code",
   "execution_count": 40,
   "metadata": {},
   "outputs": [
    {
     "name": "stdout",
     "output_type": "stream",
     "text": [
      "[[0.71488378 0.28511622]\n",
      " [0.67254409 0.32745591]\n",
      " [0.61210004 0.38789996]\n",
      " ...\n",
      " [0.71362799 0.28637201]\n",
      " [0.71306438 0.28693562]\n",
      " [0.72636148 0.27363852]]\n"
     ]
    }
   ],
   "source": [
    "# to caculate the probability of dependent variable\n",
    "probability=lr.predict_proba(X_test) \n",
    "print(probability)"
   ]
  },
  {
   "cell_type": "markdown",
   "metadata": {},
   "source": [
    "We have an accuracy of 71.40% which is good but not bad but let us check other attributes. and we got K-fold accuracy average.\n",
    "* Is the relationship significant?   \n",
    "  - yes\n",
    "* Are any model assumptions violated?    \n",
    "  - yes \n",
    "* Cross-validate the model. How well did it do? \n",
    "  - 71.3% \n",
    "* Calculate the probability of getting the dependent variable\n",
    "  - We got the probability array above."
   ]
  },
  {
   "cell_type": "markdown",
   "metadata": {},
   "source": [
    "**Model 2**<br>\n",
    "To Predict Whether the Trip Type is \"Round Trip\" OR \"Not\""
   ]
  },
  {
   "cell_type": "code",
   "execution_count": 41,
   "metadata": {},
   "outputs": [],
   "source": [
    "X = data.drop(columns=['Trip Route Category_Round Trip'])\n",
    "Y = data['Trip Route Category_Round Trip']"
   ]
  },
  {
   "cell_type": "code",
   "execution_count": 42,
   "metadata": {},
   "outputs": [
    {
     "name": "stdout",
     "output_type": "stream",
     "text": [
      "(104572, 13)\n",
      "(26143, 13)\n",
      "(104572,)\n",
      "(26143,)\n"
     ]
    }
   ],
   "source": [
    "#train test split\n",
    "X_train, X_test, Y_train, Y_test = train_test_split(X, Y, test_size = 0.2)\n",
    "print(X_train.shape)\n",
    "print(X_test.shape)\n",
    "print(Y_train.shape)\n",
    "print(Y_test.shape)"
   ]
  },
  {
   "cell_type": "code",
   "execution_count": 43,
   "metadata": {},
   "outputs": [
    {
     "name": "stdout",
     "output_type": "stream",
     "text": [
      "90.23065447729793\n"
     ]
    }
   ],
   "source": [
    "#Logistic regression\n",
    "lr = LogisticRegression()\n",
    "lr.fit(X_train, Y_train)\n",
    "predict = lr.predict(X_test)\n",
    "lr_conf_matrix = confusion_matrix(Y_test, lr_predict)\n",
    "lr_acc_score = accuracy_score(Y_test, predict)\n",
    "print(lr_acc_score*100)"
   ]
  },
  {
   "cell_type": "code",
   "execution_count": 44,
   "metadata": {},
   "outputs": [
    {
     "name": "stdout",
     "output_type": "stream",
     "text": [
      "10-fold cross validation average accuracy: 0.902\n"
     ]
    }
   ],
   "source": [
    "#K fold cross validation\n",
    "from sklearn import model_selection\n",
    "from sklearn.model_selection import cross_val_score\n",
    "kfold = model_selection.KFold(n_splits=10, random_state=7)\n",
    "modelCV = LogisticRegression()\n",
    "scoring = 'accuracy'\n",
    "results = model_selection.cross_val_score(modelCV, X_train, Y_train, cv=kfold, scoring=scoring)\n",
    "print(\"10-fold cross validation average accuracy: %.3f\" % (results.mean()))"
   ]
  },
  {
   "cell_type": "code",
   "execution_count": 45,
   "metadata": {},
   "outputs": [
    {
     "name": "stdout",
     "output_type": "stream",
     "text": [
      "[[0.88603843 0.11396157]\n",
      " [0.89763694 0.10236306]\n",
      " [0.89508058 0.10491942]\n",
      " ...\n",
      " [0.89585281 0.10414719]\n",
      " [0.89694133 0.10305867]\n",
      " [0.89697623 0.10302377]]\n"
     ]
    }
   ],
   "source": [
    "# to caculate the probability of dependent variable\n",
    "probability=lr.predict_proba(X_test) \n",
    "print(probability)"
   ]
  },
  {
   "cell_type": "markdown",
   "metadata": {},
   "source": [
    "This model is have greater accuracy than the other model of 90.51% and also we got K-fold avg. accuracy.\n",
    "* Is the relationship significant?   \n",
    "  - yes\n",
    "* Are any model assumptions violated?    \n",
    "  - yes \n",
    "* Cross-validate the model. How well did it do? \n",
    "  - 90.51% \n",
    "* Calculate the probability of getting the dependent variable\n",
    "  - We got the probability array above."
   ]
  },
  {
   "cell_type": "markdown",
   "metadata": {},
   "source": [
    "**Model 3**"
   ]
  },
  {
   "cell_type": "markdown",
   "metadata": {},
   "source": [
    "In this model we'll predict whether PASSHOLDER TYPE is \"Monthly Pass\" OR \"Not\""
   ]
  },
  {
   "cell_type": "code",
   "execution_count": 46,
   "metadata": {},
   "outputs": [],
   "source": [
    "X = data.drop(columns=['Passholder Type_Monthly Pass','Passholder Type_Walk-up','Plan Duration'])\n",
    "Y = data['Passholder Type_Monthly Pass']"
   ]
  },
  {
   "cell_type": "code",
   "execution_count": 47,
   "metadata": {},
   "outputs": [
    {
     "name": "stdout",
     "output_type": "stream",
     "text": [
      "(104572, 11)\n",
      "(26143, 11)\n",
      "(104572,)\n",
      "(26143,)\n"
     ]
    }
   ],
   "source": [
    "#Train-test split\n",
    "X_train, X_test, Y_train, Y_test = train_test_split(X, Y, test_size = 0.2)\n",
    "print(X_train.shape)\n",
    "print(X_test.shape)\n",
    "print(Y_train.shape)\n",
    "print(Y_test.shape)"
   ]
  },
  {
   "cell_type": "code",
   "execution_count": 48,
   "metadata": {},
   "outputs": [
    {
     "name": "stdout",
     "output_type": "stream",
     "text": [
      "66.1974524729373\n"
     ]
    }
   ],
   "source": [
    "#Logistic regression\n",
    "lr = LogisticRegression()\n",
    "lr.fit(X_train, Y_train)\n",
    "predict = lr.predict(X_test)\n",
    "lr_conf_matrix = confusion_matrix(Y_test, lr_predict)\n",
    "lr_acc_score = accuracy_score(Y_test, predict)\n",
    "print(lr_acc_score*100)"
   ]
  },
  {
   "cell_type": "code",
   "execution_count": 49,
   "metadata": {},
   "outputs": [
    {
     "name": "stdout",
     "output_type": "stream",
     "text": [
      "10-fold cross validation average accuracy: 0.666\n"
     ]
    }
   ],
   "source": [
    "# K-fold Cross validation\n",
    "from sklearn import model_selection\n",
    "from sklearn.model_selection import cross_val_score\n",
    "kfold = model_selection.KFold(n_splits=10, random_state=7)\n",
    "modelCV = LogisticRegression()\n",
    "scoring = 'accuracy'\n",
    "results = model_selection.cross_val_score(modelCV, X_train, Y_train, cv=kfold, scoring=scoring)\n",
    "print(\"10-fold cross validation average accuracy: %.3f\" % (results.mean()))"
   ]
  },
  {
   "cell_type": "code",
   "execution_count": 50,
   "metadata": {},
   "outputs": [
    {
     "name": "stdout",
     "output_type": "stream",
     "text": [
      "[[0.38138945 0.61861055]\n",
      " [0.346813   0.653187  ]\n",
      " [0.35120526 0.64879474]\n",
      " ...\n",
      " [0.31337021 0.68662979]\n",
      " [0.34337473 0.65662527]\n",
      " [0.43455908 0.56544092]]\n"
     ]
    }
   ],
   "source": [
    "# to caculate the probability of dependent variable\n",
    "probability=lr.predict_proba(X_test) \n",
    "print(probability)"
   ]
  },
  {
   "cell_type": "markdown",
   "metadata": {},
   "source": [
    "This model has the accuracy of 66.03% and also got k-fold accuracy score\n",
    "* Is the relationship significant?   \n",
    "  - yes\n",
    "* Are any model assumptions violated?    \n",
    "  - yes \n",
    "* Cross-validate the model. How well did it do? \n",
    "  - 66.03%\n",
    "* Calculate the probability of getting the dependent variable\n",
    "  - We got the probability array above."
   ]
  },
  {
   "cell_type": "markdown",
   "metadata": {},
   "source": [
    "**For Logistic Regression the Model 2 is giving us high accuracy score.**"
   ]
  },
  {
   "cell_type": "markdown",
   "metadata": {},
   "source": [
    "### Multi-colinearity and step-wise regression"
   ]
  },
  {
   "cell_type": "markdown",
   "metadata": {},
   "source": [
    "Colinearity is the state where two variables are highly correlated and contain similiar information about the variance within a given dataset. To detect colinearity among variables, simply create a correlation matrix and find variables with large absolute values. While,Multicolinearity on the other hand is more troublesome to detect because it emerges when three or more variables, which are highly correlated, are included within a model. To make matters worst multicolinearity can emerge even when isolated pairs of variables are not colinear.\n",
    "\n",
    "The Variance Inflation Factor (VIF) is a measure of colinearity among predictor variables within a multiple regression. It is calculated by taking the the ratio of the variance of all a given model's betas divide by the variane of a single beta if it were fit alone.\n",
    "\n",
    "Steps for Implementing VIF:\n",
    "1. Run a multiple regression.\n",
    "2. Calculate the VIF factors.\n",
    "3. Inspect the factors for each predictor variable, if the VIF is between 5-10, multicolinearity is likely present and you   should consider dropping the variable."
   ]
  },
  {
   "cell_type": "code",
   "execution_count": 51,
   "metadata": {},
   "outputs": [],
   "source": [
    "#Encoding the coloumns to be in numeric\n",
    "from sklearn.preprocessing import LabelEncoder\n",
    "labelencoder=LabelEncoder()\n",
    "for column in data.columns:\n",
    "    data[column] = labelencoder.fit_transform(data[column])"
   ]
  },
  {
   "cell_type": "code",
   "execution_count": 52,
   "metadata": {},
   "outputs": [
    {
     "data": {
      "text/html": [
       "<div>\n",
       "<style scoped>\n",
       "    .dataframe tbody tr th:only-of-type {\n",
       "        vertical-align: middle;\n",
       "    }\n",
       "\n",
       "    .dataframe tbody tr th {\n",
       "        vertical-align: top;\n",
       "    }\n",
       "\n",
       "    .dataframe thead th {\n",
       "        text-align: right;\n",
       "    }\n",
       "</style>\n",
       "<table border=\"1\" class=\"dataframe\">\n",
       "  <thead>\n",
       "    <tr style=\"text-align: right;\">\n",
       "      <th></th>\n",
       "      <th>VIF Factor</th>\n",
       "      <th>features</th>\n",
       "    </tr>\n",
       "  </thead>\n",
       "  <tbody>\n",
       "    <tr>\n",
       "      <th>0</th>\n",
       "      <td>1.000000</td>\n",
       "      <td>Trip ID</td>\n",
       "    </tr>\n",
       "    <tr>\n",
       "      <th>1</th>\n",
       "      <td>inf</td>\n",
       "      <td>Duration</td>\n",
       "    </tr>\n",
       "    <tr>\n",
       "      <th>2</th>\n",
       "      <td>1.000000</td>\n",
       "      <td>Starting Station ID</td>\n",
       "    </tr>\n",
       "    <tr>\n",
       "      <th>3</th>\n",
       "      <td>1.200000</td>\n",
       "      <td>Starting Station Latitude</td>\n",
       "    </tr>\n",
       "    <tr>\n",
       "      <th>4</th>\n",
       "      <td>1.300000</td>\n",
       "      <td>Starting Station Longitude</td>\n",
       "    </tr>\n",
       "    <tr>\n",
       "      <th>5</th>\n",
       "      <td>1.100000</td>\n",
       "      <td>Ending Station ID</td>\n",
       "    </tr>\n",
       "    <tr>\n",
       "      <th>6</th>\n",
       "      <td>1.200000</td>\n",
       "      <td>Ending Station Latitude</td>\n",
       "    </tr>\n",
       "    <tr>\n",
       "      <th>7</th>\n",
       "      <td>1.300000</td>\n",
       "      <td>Ending Station Longitude</td>\n",
       "    </tr>\n",
       "    <tr>\n",
       "      <th>8</th>\n",
       "      <td>1.000000</td>\n",
       "      <td>Bike ID</td>\n",
       "    </tr>\n",
       "    <tr>\n",
       "      <th>9</th>\n",
       "      <td>11.000000</td>\n",
       "      <td>Plan Duration</td>\n",
       "    </tr>\n",
       "    <tr>\n",
       "      <th>10</th>\n",
       "      <td>1.100000</td>\n",
       "      <td>Trip Route Category_Round Trip</td>\n",
       "    </tr>\n",
       "    <tr>\n",
       "      <th>11</th>\n",
       "      <td>8.700000</td>\n",
       "      <td>Passholder Type_Monthly Pass</td>\n",
       "    </tr>\n",
       "    <tr>\n",
       "      <th>12</th>\n",
       "      <td>12.300000</td>\n",
       "      <td>Passholder Type_Walk-up</td>\n",
       "    </tr>\n",
       "    <tr>\n",
       "      <th>13</th>\n",
       "      <td>inf</td>\n",
       "      <td>Cost</td>\n",
       "    </tr>\n",
       "  </tbody>\n",
       "</table>\n",
       "</div>"
      ],
      "text/plain": [
       "    VIF Factor                        features\n",
       "0     1.000000                         Trip ID\n",
       "1          inf                        Duration\n",
       "2     1.000000             Starting Station ID\n",
       "3     1.200000       Starting Station Latitude\n",
       "4     1.300000      Starting Station Longitude\n",
       "5     1.100000               Ending Station ID\n",
       "6     1.200000         Ending Station Latitude\n",
       "7     1.300000        Ending Station Longitude\n",
       "8     1.000000                         Bike ID\n",
       "9    11.000000                   Plan Duration\n",
       "10    1.100000  Trip Route Category_Round Trip\n",
       "11    8.700000    Passholder Type_Monthly Pass\n",
       "12   12.300000         Passholder Type_Walk-up\n",
       "13         inf                            Cost"
      ]
     },
     "execution_count": 52,
     "metadata": {},
     "output_type": "execute_result"
    }
   ],
   "source": [
    "#Multi-collinearity :\n",
    "from statsmodels.stats import outliers_influence\n",
    "vif = pd.DataFrame()\n",
    "vif['VIF Factor'] = [outliers_influence.variance_inflation_factor(data.values, i) for i in range(data.shape[1])]\n",
    "vif['features'] = data.columns\n",
    "vif.round(1)"
   ]
  },
  {
   "cell_type": "markdown",
   "metadata": {},
   "source": [
    "It can be infered from the result that VIF for duration, Cost, Plan Duration,Passholder walkup type, Monthly type are more so we are dropping that coloumn are more. Hence we are dropping those columns from the dataset"
   ]
  },
  {
   "cell_type": "code",
   "execution_count": 53,
   "metadata": {},
   "outputs": [
    {
     "name": "stdout",
     "output_type": "stream",
     "text": [
      "   Trip ID  Starting Station ID  Starting Station Latitude  \\\n",
      "0        0                    7                        111   \n",
      "1        1                    7                        111   \n",
      "2        2                    8                        103   \n",
      "3       35                    8                        103   \n",
      "4        3                   23                         86   \n",
      "\n",
      "   Starting Station Longitude  Ending Station ID  Ending Station Latitude  \\\n",
      "0                          15                  7                      111   \n",
      "1                          15                  7                      111   \n",
      "2                          28                  8                      103   \n",
      "3                          28                  8                      103   \n",
      "4                          73                 23                       86   \n",
      "\n",
      "   Ending Station Longitude  Bike ID  Trip Route Category_Round Trip  \n",
      "0                        15      452                               1  \n",
      "1                        15      452                               1  \n",
      "2                        28      118                               1  \n",
      "3                        28      118                               1  \n",
      "4                        73      736                               1  \n"
     ]
    }
   ],
   "source": [
    "data_dr = data.drop(['Duration', 'Cost', 'Plan Duration','Passholder Type_Monthly Pass','Passholder Type_Walk-up'], axis = 1)\n",
    "print(data_dr.head(5))"
   ]
  },
  {
   "cell_type": "code",
   "execution_count": 54,
   "metadata": {},
   "outputs": [
    {
     "data": {
      "text/html": [
       "<div>\n",
       "<style scoped>\n",
       "    .dataframe tbody tr th:only-of-type {\n",
       "        vertical-align: middle;\n",
       "    }\n",
       "\n",
       "    .dataframe tbody tr th {\n",
       "        vertical-align: top;\n",
       "    }\n",
       "\n",
       "    .dataframe thead th {\n",
       "        text-align: right;\n",
       "    }\n",
       "</style>\n",
       "<table border=\"1\" class=\"dataframe\">\n",
       "  <thead>\n",
       "    <tr style=\"text-align: right;\">\n",
       "      <th></th>\n",
       "      <th>VIF Factor</th>\n",
       "      <th>features</th>\n",
       "    </tr>\n",
       "  </thead>\n",
       "  <tbody>\n",
       "    <tr>\n",
       "      <th>0</th>\n",
       "      <td>3.8</td>\n",
       "      <td>Trip ID</td>\n",
       "    </tr>\n",
       "    <tr>\n",
       "      <th>1</th>\n",
       "      <td>3.5</td>\n",
       "      <td>Starting Station ID</td>\n",
       "    </tr>\n",
       "    <tr>\n",
       "      <th>2</th>\n",
       "      <td>7.4</td>\n",
       "      <td>Starting Station Latitude</td>\n",
       "    </tr>\n",
       "    <tr>\n",
       "      <th>3</th>\n",
       "      <td>4.9</td>\n",
       "      <td>Starting Station Longitude</td>\n",
       "    </tr>\n",
       "    <tr>\n",
       "      <th>4</th>\n",
       "      <td>3.3</td>\n",
       "      <td>Ending Station ID</td>\n",
       "    </tr>\n",
       "    <tr>\n",
       "      <th>5</th>\n",
       "      <td>7.2</td>\n",
       "      <td>Ending Station Latitude</td>\n",
       "    </tr>\n",
       "    <tr>\n",
       "      <th>6</th>\n",
       "      <td>4.7</td>\n",
       "      <td>Ending Station Longitude</td>\n",
       "    </tr>\n",
       "    <tr>\n",
       "      <th>7</th>\n",
       "      <td>3.7</td>\n",
       "      <td>Bike ID</td>\n",
       "    </tr>\n",
       "    <tr>\n",
       "      <th>8</th>\n",
       "      <td>1.1</td>\n",
       "      <td>Trip Route Category_Round Trip</td>\n",
       "    </tr>\n",
       "  </tbody>\n",
       "</table>\n",
       "</div>"
      ],
      "text/plain": [
       "   VIF Factor                        features\n",
       "0         3.8                         Trip ID\n",
       "1         3.5             Starting Station ID\n",
       "2         7.4       Starting Station Latitude\n",
       "3         4.9      Starting Station Longitude\n",
       "4         3.3               Ending Station ID\n",
       "5         7.2         Ending Station Latitude\n",
       "6         4.7        Ending Station Longitude\n",
       "7         3.7                         Bike ID\n",
       "8         1.1  Trip Route Category_Round Trip"
      ]
     },
     "execution_count": 54,
     "metadata": {},
     "output_type": "execute_result"
    }
   ],
   "source": [
    "#Calculating VIF\n",
    "vif = pd.DataFrame()\n",
    "vif['VIF Factor'] = [outliers_influence.variance_inflation_factor(data_dr.values, i) for i in range(data_dr.shape[1])]\n",
    "vif['features'] = data_dr.columns\n",
    "vif.round(1)"
   ]
  },
  {
   "cell_type": "markdown",
   "metadata": {},
   "source": [
    "1. Is there any multi-colinearity in the model?  \n",
    "   - Yes\n",
    "2. In the multiple regression models are predictor variables independent of all the other predictor variables? \n",
    "   - No \n",
    "3. In multiple regression models rank the most significant predictor variables and exclude insignificant ones from the model. \n",
    "   - Rank 1- 'Trip Route Category_Round Trip', 'Passholder Type_Monthly Pass', 'Passholder Type_Walk-up'.<br>\n",
    "     Rank 2- 'Plan Duration','Trip Route Category_Round Trip','Passholder Type_Monthly Pass', 'Passholder Type_Walk-up'<br>\n",
    "     Rank 3-  Duration,Starting Station ID,Starting Station Latitude,Starting Station Longitude,Ending Station ID,Ending                 Station Latitude,Ending Station Longitude,Bike ID,Plan Duration,Trip Route Category_Round Trip,Passholder                   Type_Monthly Pass,Passholder Type_Walk-up\n"
   ]
  },
  {
   "cell_type": "markdown",
   "metadata": {},
   "source": [
    "### Interaction effects"
   ]
  },
  {
   "cell_type": "markdown",
   "metadata": {},
   "source": [
    "Interaction effects occur when the effect of one variable depends on the value of another variable. Interaction effects are common in regression analysis, ANOVA, and designed experiments. In this blog post, I explain interaction effects, how to interpret them in statistical designs, and the problems you will face if you don’t include them in your model."
   ]
  },
  {
   "cell_type": "markdown",
   "metadata": {},
   "source": [
    "### 1. Model 1 for Interaction effects"
   ]
  },
  {
   "cell_type": "markdown",
   "metadata": {},
   "source": [
    "We'll take the Duration_walk up to predict cost and see if our models accuracy increses or not"
   ]
  },
  {
   "cell_type": "code",
   "execution_count": 55,
   "metadata": {},
   "outputs": [],
   "source": [
    "data['Duration_Walk-up']=data['Plan Duration' ]* data['Passholder Type_Walk-up']\n",
    "X = data[['Duration_Walk-up','Trip Route Category_Round Trip', 'Passholder Type_Monthly Pass', 'Passholder Type_Walk-up']]\n",
    "Y = data[['Cost']]"
   ]
  },
  {
   "cell_type": "markdown",
   "metadata": {},
   "source": [
    "Split it into train and test data"
   ]
  },
  {
   "cell_type": "code",
   "execution_count": 56,
   "metadata": {},
   "outputs": [
    {
     "name": "stdout",
     "output_type": "stream",
     "text": [
      "(104572, 4)\n",
      "(26143, 4)\n",
      "(104572, 1)\n",
      "(26143, 1)\n"
     ]
    }
   ],
   "source": [
    "X_train, X_test, Y_train, Y_test = train_test_split(X, Y, test_size = 0.2)\n",
    "print(X_train.shape)\n",
    "print(X_test.shape)\n",
    "print(Y_train.shape)\n",
    "print(Y_test.shape)"
   ]
  },
  {
   "cell_type": "markdown",
   "metadata": {},
   "source": [
    "Perform Linear Regression and genrate the summary"
   ]
  },
  {
   "cell_type": "code",
   "execution_count": 57,
   "metadata": {},
   "outputs": [
    {
     "name": "stdout",
     "output_type": "stream",
     "text": [
      "2317.6890945951113\n"
     ]
    }
   ],
   "source": [
    "#Linear regression\n",
    "reg = LinearRegression()\n",
    "reg.fit(X_train, Y_train)\n",
    "pred=reg.predict(X_test)\n",
    "pred=np.round_(pred)\n",
    "print (mean_squared_error(Y_test,pred))"
   ]
  },
  {
   "cell_type": "code",
   "execution_count": 58,
   "metadata": {},
   "outputs": [
    {
     "data": {
      "text/html": [
       "<table class=\"simpletable\">\n",
       "<caption>OLS Regression Results</caption>\n",
       "<tr>\n",
       "  <th>Dep. Variable:</th>          <td>Cost</td>       <th>  R-squared:         </th>  <td>   0.172</td>  \n",
       "</tr>\n",
       "<tr>\n",
       "  <th>Model:</th>                   <td>OLS</td>       <th>  Adj. R-squared:    </th>  <td>   0.172</td>  \n",
       "</tr>\n",
       "<tr>\n",
       "  <th>Method:</th>             <td>Least Squares</td>  <th>  F-statistic:       </th>  <td>   9063.</td>  \n",
       "</tr>\n",
       "<tr>\n",
       "  <th>Date:</th>             <td>Mon, 25 Feb 2019</td> <th>  Prob (F-statistic):</th>   <td>  0.00</td>   \n",
       "</tr>\n",
       "<tr>\n",
       "  <th>Time:</th>                 <td>22:48:22</td>     <th>  Log-Likelihood:    </th> <td>-7.0296e+05</td>\n",
       "</tr>\n",
       "<tr>\n",
       "  <th>No. Observations:</th>      <td>130715</td>      <th>  AIC:               </th>  <td>1.406e+06</td> \n",
       "</tr>\n",
       "<tr>\n",
       "  <th>Df Residuals:</th>          <td>130712</td>      <th>  BIC:               </th>  <td>1.406e+06</td> \n",
       "</tr>\n",
       "<tr>\n",
       "  <th>Df Model:</th>              <td>     3</td>      <th>                     </th>      <td> </td>     \n",
       "</tr>\n",
       "<tr>\n",
       "  <th>Covariance Type:</th>      <td>nonrobust</td>    <th>                     </th>      <td> </td>     \n",
       "</tr>\n",
       "</table>\n",
       "<table class=\"simpletable\">\n",
       "<tr>\n",
       "                 <td></td>                   <th>coef</th>     <th>std err</th>      <th>t</th>      <th>P>|t|</th>  <th>[0.025</th>    <th>0.975]</th>  \n",
       "</tr>\n",
       "<tr>\n",
       "  <th>Duration_Walk-up</th>               <td>         0</td> <td>        0</td> <td>      nan</td> <td>   nan</td> <td>        0</td> <td>        0</td>\n",
       "</tr>\n",
       "<tr>\n",
       "  <th>Trip Route Category_Round Trip</th> <td>   24.4580</td> <td>    0.506</td> <td>   48.309</td> <td> 0.000</td> <td>   23.466</td> <td>   25.450</td>\n",
       "</tr>\n",
       "<tr>\n",
       "  <th>Passholder Type_Monthly Pass</th>   <td>   10.3914</td> <td>    0.186</td> <td>   55.833</td> <td> 0.000</td> <td>   10.027</td> <td>   10.756</td>\n",
       "</tr>\n",
       "<tr>\n",
       "  <th>Passholder Type_Walk-up</th>        <td>   32.5174</td> <td>    0.280</td> <td>  116.131</td> <td> 0.000</td> <td>   31.969</td> <td>   33.066</td>\n",
       "</tr>\n",
       "</table>\n",
       "<table class=\"simpletable\">\n",
       "<tr>\n",
       "  <th>Omnibus:</th>       <td>202122.217</td> <th>  Durbin-Watson:     </th>   <td>   1.880</td>  \n",
       "</tr>\n",
       "<tr>\n",
       "  <th>Prob(Omnibus):</th>   <td> 0.000</td>   <th>  Jarque-Bera (JB):  </th> <td>83123019.173</td>\n",
       "</tr>\n",
       "<tr>\n",
       "  <th>Skew:</th>            <td>10.050</td>   <th>  Prob(JB):          </th>   <td>    0.00</td>  \n",
       "</tr>\n",
       "<tr>\n",
       "  <th>Kurtosis:</th>        <td>124.893</td>  <th>  Cond. No.          </th>   <td>     inf</td>  \n",
       "</tr>\n",
       "</table><br/><br/>Warnings:<br/>[1] Standard Errors assume that the covariance matrix of the errors is correctly specified.<br/>[2] The smallest eigenvalue is      0. This might indicate that there are<br/>strong multicollinearity problems or that the design matrix is singular."
      ],
      "text/plain": [
       "<class 'statsmodels.iolib.summary.Summary'>\n",
       "\"\"\"\n",
       "                            OLS Regression Results                            \n",
       "==============================================================================\n",
       "Dep. Variable:                   Cost   R-squared:                       0.172\n",
       "Model:                            OLS   Adj. R-squared:                  0.172\n",
       "Method:                 Least Squares   F-statistic:                     9063.\n",
       "Date:                Mon, 25 Feb 2019   Prob (F-statistic):               0.00\n",
       "Time:                        22:48:22   Log-Likelihood:            -7.0296e+05\n",
       "No. Observations:              130715   AIC:                         1.406e+06\n",
       "Df Residuals:                  130712   BIC:                         1.406e+06\n",
       "Df Model:                           3                                         \n",
       "Covariance Type:            nonrobust                                         \n",
       "==================================================================================================\n",
       "                                     coef    std err          t      P>|t|      [0.025      0.975]\n",
       "--------------------------------------------------------------------------------------------------\n",
       "Duration_Walk-up                        0          0        nan        nan           0           0\n",
       "Trip Route Category_Round Trip    24.4580      0.506     48.309      0.000      23.466      25.450\n",
       "Passholder Type_Monthly Pass      10.3914      0.186     55.833      0.000      10.027      10.756\n",
       "Passholder Type_Walk-up           32.5174      0.280    116.131      0.000      31.969      33.066\n",
       "==============================================================================\n",
       "Omnibus:                   202122.217   Durbin-Watson:                   1.880\n",
       "Prob(Omnibus):                  0.000   Jarque-Bera (JB):         83123019.173\n",
       "Skew:                          10.050   Prob(JB):                         0.00\n",
       "Kurtosis:                     124.893   Cond. No.                          inf\n",
       "==============================================================================\n",
       "\n",
       "Warnings:\n",
       "[1] Standard Errors assume that the covariance matrix of the errors is correctly specified.\n",
       "[2] The smallest eigenvalue is      0. This might indicate that there are\n",
       "strong multicollinearity problems or that the design matrix is singular.\n",
       "\"\"\""
      ]
     },
     "execution_count": 58,
     "metadata": {},
     "output_type": "execute_result"
    }
   ],
   "source": [
    "#summary\n",
    "m1 = sm.OLS(Y.astype(float), X.astype(float)).fit()\n",
    "m1.summary()"
   ]
  },
  {
   "cell_type": "code",
   "execution_count": 59,
   "metadata": {},
   "outputs": [
    {
     "data": {
      "text/plain": [
       "6.567949948716794"
      ]
     },
     "execution_count": 59,
     "metadata": {},
     "output_type": "execute_result"
    }
   ],
   "source": [
    "#calculating accuracy\n",
    "from sklearn.model_selection import cross_val_score\n",
    "accuracy = cross_val_score(estimator = reg, X= X_test, y= Y_test, cv = 5)\n",
    "accuracy.mean()*100"
   ]
  },
  {
   "cell_type": "markdown",
   "metadata": {},
   "source": [
    "We got the accuracy of 6.15 which is still greater than our previous models lets do another Interaction model"
   ]
  },
  {
   "cell_type": "markdown",
   "metadata": {},
   "source": [
    "### 2. Model 2 for Interaction effects"
   ]
  },
  {
   "cell_type": "markdown",
   "metadata": {},
   "source": [
    "For this we'll take RoundTrip_walk up and perform the regression."
   ]
  },
  {
   "cell_type": "code",
   "execution_count": 60,
   "metadata": {},
   "outputs": [],
   "source": [
    "data['RoundTrip_Walk-up']=data['Trip Route Category_Round Trip' ]* data['Passholder Type_Walk-up']\n",
    "X = data[['RoundTrip_Walk-up','Trip Route Category_Round Trip', 'Passholder Type_Monthly Pass', 'Passholder Type_Walk-up']]\n",
    "Y = data[['Cost']]"
   ]
  },
  {
   "cell_type": "code",
   "execution_count": 61,
   "metadata": {},
   "outputs": [
    {
     "name": "stdout",
     "output_type": "stream",
     "text": [
      "(104572, 4)\n",
      "(26143, 4)\n",
      "(104572, 1)\n",
      "(26143, 1)\n"
     ]
    }
   ],
   "source": [
    "#train-test Split data\n",
    "X_train, X_test, Y_train, Y_test = train_test_split(X, Y, test_size = 0.2)\n",
    "print(X_train.shape)\n",
    "print(X_test.shape)\n",
    "print(Y_train.shape)\n",
    "print(Y_test.shape)"
   ]
  },
  {
   "cell_type": "code",
   "execution_count": 62,
   "metadata": {},
   "outputs": [
    {
     "name": "stdout",
     "output_type": "stream",
     "text": [
      "2437.957617717936\n"
     ]
    }
   ],
   "source": [
    "# linear regression\n",
    "reg = LinearRegression()\n",
    "reg.fit(X_train, Y_train)\n",
    "pred=reg.predict(X_test)\n",
    "pred=np.round_(pred)\n",
    "print (mean_squared_error(Y_test,pred))"
   ]
  },
  {
   "cell_type": "code",
   "execution_count": 63,
   "metadata": {
    "scrolled": false
   },
   "outputs": [
    {
     "data": {
      "text/html": [
       "<table class=\"simpletable\">\n",
       "<caption>OLS Regression Results</caption>\n",
       "<tr>\n",
       "  <th>Dep. Variable:</th>          <td>Cost</td>       <th>  R-squared:         </th>  <td>   0.173</td>  \n",
       "</tr>\n",
       "<tr>\n",
       "  <th>Model:</th>                   <td>OLS</td>       <th>  Adj. R-squared:    </th>  <td>   0.173</td>  \n",
       "</tr>\n",
       "<tr>\n",
       "  <th>Method:</th>             <td>Least Squares</td>  <th>  F-statistic:       </th>  <td>   6857.</td>  \n",
       "</tr>\n",
       "<tr>\n",
       "  <th>Date:</th>             <td>Mon, 25 Feb 2019</td> <th>  Prob (F-statistic):</th>   <td>  0.00</td>   \n",
       "</tr>\n",
       "<tr>\n",
       "  <th>Time:</th>                 <td>22:48:22</td>     <th>  Log-Likelihood:    </th> <td>-7.0286e+05</td>\n",
       "</tr>\n",
       "<tr>\n",
       "  <th>No. Observations:</th>      <td>130715</td>      <th>  AIC:               </th>  <td>1.406e+06</td> \n",
       "</tr>\n",
       "<tr>\n",
       "  <th>Df Residuals:</th>          <td>130711</td>      <th>  BIC:               </th>  <td>1.406e+06</td> \n",
       "</tr>\n",
       "<tr>\n",
       "  <th>Df Model:</th>              <td>     4</td>      <th>                     </th>      <td> </td>     \n",
       "</tr>\n",
       "<tr>\n",
       "  <th>Covariance Type:</th>      <td>nonrobust</td>    <th>                     </th>      <td> </td>     \n",
       "</tr>\n",
       "</table>\n",
       "<table class=\"simpletable\">\n",
       "<tr>\n",
       "                 <td></td>                   <th>coef</th>     <th>std err</th>      <th>t</th>      <th>P>|t|</th>  <th>[0.025</th>    <th>0.975]</th>  \n",
       "</tr>\n",
       "<tr>\n",
       "  <th>RoundTrip_Walk-up</th>              <td>   14.6669</td> <td>    1.045</td> <td>   14.035</td> <td> 0.000</td> <td>   12.619</td> <td>   16.715</td>\n",
       "</tr>\n",
       "<tr>\n",
       "  <th>Trip Route Category_Round Trip</th> <td>   15.2901</td> <td>    0.826</td> <td>   18.506</td> <td> 0.000</td> <td>   13.671</td> <td>   16.909</td>\n",
       "</tr>\n",
       "<tr>\n",
       "  <th>Passholder Type_Monthly Pass</th>   <td>   10.8131</td> <td>    0.188</td> <td>   57.398</td> <td> 0.000</td> <td>   10.444</td> <td>   11.182</td>\n",
       "</tr>\n",
       "<tr>\n",
       "  <th>Passholder Type_Walk-up</th>        <td>   31.3774</td> <td>    0.291</td> <td>  107.697</td> <td> 0.000</td> <td>   30.806</td> <td>   31.948</td>\n",
       "</tr>\n",
       "</table>\n",
       "<table class=\"simpletable\">\n",
       "<tr>\n",
       "  <th>Omnibus:</th>       <td>202297.085</td> <th>  Durbin-Watson:     </th>   <td>   1.880</td>  \n",
       "</tr>\n",
       "<tr>\n",
       "  <th>Prob(Omnibus):</th>   <td> 0.000</td>   <th>  Jarque-Bera (JB):  </th> <td>83564646.168</td>\n",
       "</tr>\n",
       "<tr>\n",
       "  <th>Skew:</th>            <td>10.066</td>   <th>  Prob(JB):          </th>   <td>    0.00</td>  \n",
       "</tr>\n",
       "<tr>\n",
       "  <th>Kurtosis:</th>        <td>125.220</td>  <th>  Cond. No.          </th>   <td>    6.87</td>  \n",
       "</tr>\n",
       "</table><br/><br/>Warnings:<br/>[1] Standard Errors assume that the covariance matrix of the errors is correctly specified."
      ],
      "text/plain": [
       "<class 'statsmodels.iolib.summary.Summary'>\n",
       "\"\"\"\n",
       "                            OLS Regression Results                            \n",
       "==============================================================================\n",
       "Dep. Variable:                   Cost   R-squared:                       0.173\n",
       "Model:                            OLS   Adj. R-squared:                  0.173\n",
       "Method:                 Least Squares   F-statistic:                     6857.\n",
       "Date:                Mon, 25 Feb 2019   Prob (F-statistic):               0.00\n",
       "Time:                        22:48:22   Log-Likelihood:            -7.0286e+05\n",
       "No. Observations:              130715   AIC:                         1.406e+06\n",
       "Df Residuals:                  130711   BIC:                         1.406e+06\n",
       "Df Model:                           4                                         \n",
       "Covariance Type:            nonrobust                                         \n",
       "==================================================================================================\n",
       "                                     coef    std err          t      P>|t|      [0.025      0.975]\n",
       "--------------------------------------------------------------------------------------------------\n",
       "RoundTrip_Walk-up                 14.6669      1.045     14.035      0.000      12.619      16.715\n",
       "Trip Route Category_Round Trip    15.2901      0.826     18.506      0.000      13.671      16.909\n",
       "Passholder Type_Monthly Pass      10.8131      0.188     57.398      0.000      10.444      11.182\n",
       "Passholder Type_Walk-up           31.3774      0.291    107.697      0.000      30.806      31.948\n",
       "==============================================================================\n",
       "Omnibus:                   202297.085   Durbin-Watson:                   1.880\n",
       "Prob(Omnibus):                  0.000   Jarque-Bera (JB):         83564646.168\n",
       "Skew:                          10.066   Prob(JB):                         0.00\n",
       "Kurtosis:                     125.220   Cond. No.                         6.87\n",
       "==============================================================================\n",
       "\n",
       "Warnings:\n",
       "[1] Standard Errors assume that the covariance matrix of the errors is correctly specified.\n",
       "\"\"\""
      ]
     },
     "execution_count": 63,
     "metadata": {},
     "output_type": "execute_result"
    }
   ],
   "source": [
    "# summary\n",
    "m1 = sm.OLS(Y.astype(float), X.astype(float)).fit()\n",
    "m1.summary()"
   ]
  },
  {
   "cell_type": "code",
   "execution_count": 64,
   "metadata": {},
   "outputs": [
    {
     "data": {
      "text/plain": [
       "6.84252139731277"
      ]
     },
     "execution_count": 64,
     "metadata": {},
     "output_type": "execute_result"
    }
   ],
   "source": [
    "#calculating accuracy\n",
    "from sklearn.model_selection import cross_val_score\n",
    "accuracy = cross_val_score(estimator = reg, X= X_test, y= Y_test, cv = 5)\n",
    "accuracy.mean()*100"
   ]
  },
  {
   "cell_type": "markdown",
   "metadata": {},
   "source": [
    "For this model 2 we got more accuracy score than Model 1 and there is there is a significant synergy (interaction of two or more features) between the terms"
   ]
  },
  {
   "cell_type": "markdown",
   "metadata": {},
   "source": [
    "### Regularization"
   ]
  },
  {
   "cell_type": "markdown",
   "metadata": {},
   "source": [
    "A regression model that uses L1 regularization technique is called Lasso Regression and model which uses L2 is called Ridge Regression.The key difference between these two is the penalty term,the key difference between these techniques is that Lasso shrinks the less important feature’s coefficient to zero thus, removing some feature altogether. So, this works well for feature selection in case we have a huge number of features.\n",
    "\n",
    "**Here** we will do Ridge Regression or L2 Regression:\n",
    "Performs L2 regularization, i.e. adds penalty equivalent to square of the magnitude of coefficients\n",
    "Minimization objective = LS Obj + α * (sum of square of coefficients)\n"
   ]
  },
  {
   "cell_type": "code",
   "execution_count": 65,
   "metadata": {},
   "outputs": [],
   "source": [
    "#Taking X and Y\n",
    "X=data[['Trip Route Category_Round Trip', 'Passholder Type_Monthly Pass', 'Passholder Type_Walk-up']]\n",
    "Y = data[['Cost']]"
   ]
  },
  {
   "cell_type": "markdown",
   "metadata": {},
   "source": [
    "We'll split our data into training and testing model and then do the Ridge reguralization, for that we ll take value of α=0.1.\n",
    "For value of α when its 0 < α < ∞:\n",
    "The magnitude of α will decide the weightage given to different parts of objective.\n",
    "The coefficients will be somewhere between 0 and ones for simple linear regression."
   ]
  },
  {
   "cell_type": "code",
   "execution_count": 66,
   "metadata": {},
   "outputs": [
    {
     "name": "stdout",
     "output_type": "stream",
     "text": [
      "(104572, 3)\n",
      "(26143, 3)\n",
      "(104572, 1)\n",
      "(26143, 1)\n"
     ]
    }
   ],
   "source": [
    "X_train, X_test, Y_train, Y_test = train_test_split(X, Y, test_size = 0.2)\n",
    "print(X_train.shape)\n",
    "print(X_test.shape)\n",
    "print(Y_train.shape)\n",
    "print(Y_test.shape)"
   ]
  },
  {
   "cell_type": "code",
   "execution_count": 67,
   "metadata": {},
   "outputs": [],
   "source": [
    "# function to evaluate the accuracy of the model\n",
    "\n",
    "def evaluate_reg(model, test_features, test_labels):\n",
    "  predictions = model.predict(test_features)\n",
    "  errors = abs(predictions - test_labels)\n",
    "  mape = 100 * np.mean(errors / test_labels)\n",
    "  accuracy = 100 - mape\n",
    "  print('Model Performance:')\n",
    "  print('Mean ABsolute Error: {:0.4f}'.format(float(np.mean(errors))))\n",
    "  print('Accuracy = {:0.2f}%'.format(float(accuracy)))\n",
    "  return accuracy"
   ]
  },
  {
   "cell_type": "code",
   "execution_count": 68,
   "metadata": {},
   "outputs": [
    {
     "data": {
      "text/plain": [
       "LinearRegression(copy_X=True, fit_intercept=True, n_jobs=None,\n",
       "         normalize=False)"
      ]
     },
     "execution_count": 68,
     "metadata": {},
     "output_type": "execute_result"
    }
   ],
   "source": [
    "# Fitting linear regression to training set\n",
    "lr = LinearRegression()\n",
    "lr.fit(X_train, Y_train)"
   ]
  },
  {
   "cell_type": "code",
   "execution_count": 69,
   "metadata": {},
   "outputs": [
    {
     "data": {
      "text/plain": [
       "<bound method BaseEstimator.get_params of LinearRegression(copy_X=True, fit_intercept=True, n_jobs=None,\n",
       "         normalize=False)>"
      ]
     },
     "execution_count": 69,
     "metadata": {},
     "output_type": "execute_result"
    }
   ],
   "source": [
    "#get the parameters for default model\n",
    "\n",
    "lr_params = lr.get_params\n",
    "lr_params"
   ]
  },
  {
   "cell_type": "code",
   "execution_count": 70,
   "metadata": {},
   "outputs": [
    {
     "name": "stdout",
     "output_type": "stream",
     "text": [
      "Model Performance:\n",
      "Mean ABsolute Error: 16.0350\n",
      "Accuracy = -inf%\n"
     ]
    }
   ],
   "source": [
    "## Hyperparameter tuning for ridge regression\n",
    "from sklearn import linear_model\n",
    "from sklearn.linear_model import RidgeCV\n",
    "# Fitting regression to training set\n",
    "# create and fit a ridge regression model, testing each alpha\n",
    "ridge = linear_model.Ridge(alpha=0.1, normalize=True)\n",
    "# Instantiate the grid search model\n",
    "grid = RidgeCV(alphas=[1e-8,1e-7,1e-6,1e-5,1e-4, 1e-2, 1e-1, 10], normalize=True, cv = 5)\n",
    "# Fit the grid search to the data\n",
    "grid.fit(X_train, Y_train)\n",
    "# get the best parameter\n",
    "grid.alpha_\n",
    "#pred feature\n",
    "pred=grid.predict(X_test)\n",
    "# summarize the results of the grid search\n",
    "#tuned_ridge = grid.best_estimator_\n",
    "tuned_ridge_accuracy = evaluate_reg(grid, X_test, Y_test)"
   ]
  },
  {
   "cell_type": "code",
   "execution_count": 71,
   "metadata": {},
   "outputs": [
    {
     "data": {
      "text/plain": [
       "<matplotlib.collections.PathCollection at 0x28bce112cf8>"
      ]
     },
     "execution_count": 71,
     "metadata": {},
     "output_type": "execute_result"
    },
    {
     "data": {
      "image/png": "[encoded data removed]",
      "text/plain": [
       "<Figure size 432x288 with 1 Axes>"
      ]
     },
     "metadata": {
      "needs_background": "light"
     },
     "output_type": "display_data"
    }
   ],
   "source": [
    "#plotting the scatter plot\n",
    "plt.scatter(Y_test, pred)"
   ]
  },
  {
   "cell_type": "markdown",
   "metadata": {},
   "source": [
    "**Lower the alpha value, magnitude of the coefficients is more, for a greater alpha value, flexibility of model will be strict**"
   ]
  },
  {
   "cell_type": "markdown",
   "metadata": {},
   "source": [
    "### Conclusion\n",
    "In the above-performed analysis we successfully designed linear models with great accuracy rate with respect logistic regression with mean squared error and accuracy in case of linear regression, we used the k fold to validate the data train and test, also performed stepwise regression to take away multi colinearity to avoid building faulty models. We used L2 Rigid regularization to perform and check if the model for linear regression is rightly build or not.\n",
    "**Results we got-** \n",
    "1. Linear Regression:\n",
    "   - Model 3 gives us the best results to predict cost. <br>\n",
    "2. Logistic Regression:\n",
    "   - Model 2 where we predict that the Type of Trip is round or not gives us the best accuracy  <br>\n",
    "3. Multicolinarity and step regression   \n",
    "   - We calculated VIF factors and then drop the variables whose VIF were high and then we caluclated ranked of our factors      that best predict. <br>\n",
    "4. Interaction effects-   \n",
    "   - By taking we RoundTrip_Walk-up and Duration_Walk-up we got more better accuracy than our pre done models <br>\n",
    "5. For L2 or Rigid regularization   \n",
    "   - We got that Lower the alpha value, magnitude of the coefficients is more, for a greater alpha value, flexibility of    model will be strict.\n",
    "   "
   ]
  },
  {
   "cell_type": "markdown",
   "metadata": {},
   "source": [
    "### Contributions statement\n",
    "40% - By me <br>\n",
    "60 %- By External resources"
   ]
  },
  {
   "cell_type": "markdown",
   "metadata": {},
   "source": [
    "### Citations"
   ]
  },
  {
   "cell_type": "markdown",
   "metadata": {},
   "source": [
    "1. https://www.geeksforgeeks.org/python-for-data-science/ --> Method descriptions<br>\n",
    "2. https://www.kaggle.com/cityofLA/los-angeles-metro-bike-share-trip-datadata --> dataset used <br>\n",
    "3. https://www.kaggle.com/johansing/la-metro-bike-share-bc35ec --> for refernce <br>\n",
    "4. https://mode.com/python-tutorial/pandas-dataframe/ -> Python Documentation <br>\n",
    "5. https://seaborn.pydata.org/ ->Seaborn Plots(Documentation) <br>\n",
    "6. https://www.wikipedia.org/ -> Definitions <br>\n",
    "7. https://pandas.pydata.org/pandas-docs/stable/ --> Pandas Documentation <br>\n",
    "8. https://etav.github.io/python/vif_factor_python.html --> <br>"
   ]
  },
  {
   "cell_type": "markdown",
   "metadata": {},
   "source": [
    "### License "
   ]
  },
  {
   "cell_type": "markdown",
   "metadata": {},
   "source": [
    "( https://opensource.org/licenses/MIT) \n",
    "Copyright <2019> JAYESH V PATIL\n",
    "\n",
    "Permission is hereby granted, free of charge, to any person obtaining a copy of this software and associated documentation files (the \"Software\"), to deal in the Software without restriction, including without limitation the rights to use, copy, modify, merge, publish, distribute, sublicense, and/or sell copies of the Software, and to permit persons to whom the Software is furnished to do so, subject to the following conditions:\n",
    "\n",
    "The above copyright notice and this permission notice shall be included in all copies or substantial portions of the Software.\n",
    "\n",
    "THE SOFTWARE IS PROVIDED \"AS IS\", WITHOUT WARRANTY OF ANY KIND, EXPRESS OR IMPLIED, INCLUDING BUT NOT LIMITED TO THE WARRANTIES OF MERCHANTABILITY, FITNESS FOR A PARTICULAR PURPOSE AND NONINFRINGEMENT. IN NO EVENT SHALL THE AUTHORS OR COPYRIGHT HOLDERS BE LIABLE FOR ANY CLAIM, DAMAGES OR OTHER LIABILITY, WHETHER IN AN ACTION OF CONTRACT, TORT OR OTHERWISE, ARISING FROM, OUT OF OR IN CONNECTION WITH THE SOFTWARE OR THE USE OR OTHER DEALINGS IN THE SOFTWARE."
   ]
  }
 ],
 "metadata": {
  "kernelspec": {
   "display_name": "Python 3",
   "language": "python",
   "name": "python3"
  },
  "language_info": {
   "codemirror_mode": {
    "name": "ipython",
    "version": 3
   },
   "file_extension": ".py",
   "mimetype": "text/x-python",
   "name": "python",
   "nbconvert_exporter": "python",
   "pygments_lexer": "ipython3",
   "version": "3.7.1"
  }
 },
 "nbformat": 4,
 "nbformat_minor": 2
}
